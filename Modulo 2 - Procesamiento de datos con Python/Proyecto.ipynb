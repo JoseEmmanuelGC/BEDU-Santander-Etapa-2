{
 "metadata": {
  "language_info": {
   "codemirror_mode": {
    "name": "ipython",
    "version": 3
   },
   "file_extension": ".py",
   "mimetype": "text/x-python",
   "name": "python",
   "nbconvert_exporter": "python",
   "pygments_lexer": "ipython3",
   "version": "3.9.2-final"
  },
  "orig_nbformat": 2,
  "kernelspec": {
   "name": "python3",
   "display_name": "Python 3.9.2 64-bit",
   "metadata": {
    "interpreter": {
     "hash": "cbebe100ac13b66458eeecb734fb91bee26240797432868458f3a7b036f49d72"
    }
   }
  }
 },
 "nbformat": 4,
 "nbformat_minor": 2,
 "cells": [
  {
   "source": [
    "# Análisis de E-Commerce\n",
    "Importar las librerias que se utilizarán"
   ],
   "cell_type": "markdown",
   "metadata": {}
  },
  {
   "cell_type": "code",
   "execution_count": 1,
   "metadata": {},
   "outputs": [],
   "source": [
    "import pandas as pd"
   ]
  },
  {
   "source": [
    "\n",
    "Cargar los datasets"
   ],
   "cell_type": "markdown",
   "metadata": {}
  },
  {
   "cell_type": "code",
   "execution_count": 2,
   "metadata": {},
   "outputs": [],
   "source": [
    "df_customers = pd.read_csv(\"olist_customers_dataset.csv\")\n",
    "df_geolocation = pd.read_csv(\"olist_geolocation_dataset.csv\")\n",
    "df_order_items = pd.read_csv(\"olist_order_items_dataset.csv\")\n",
    "df_order_payments = pd.read_csv(\"olist_order_payments_dataset.csv\")\n",
    "df_order_reviews = pd.read_csv(\"olist_order_reviews_dataset.csv\")\n",
    "df_orders = pd.read_csv(\"olist_orders_dataset.csv\")\n",
    "df_products = pd.read_csv(\"olist_products_dataset.csv\")\n",
    "df_sellers = pd.read_csv(\"olist_sellers_dataset.csv\")"
   ]
  },
  {
   "cell_type": "code",
   "execution_count": 3,
   "metadata": {},
   "outputs": [
    {
     "output_type": "stream",
     "name": "stdout",
     "text": [
      "Index(['customer_id', 'customer_unique_id', 'customer_zip_code_prefix',\n       'customer_city', 'customer_state'],\n      dtype='object')\nIndex(['geolocation_zip_code_prefix', 'geolocation_lat', 'geolocation_lng',\n       'geolocation_city', 'geolocation_state'],\n      dtype='object')\nIndex(['order_id', 'order_item_id', 'product_id', 'seller_id',\n       'shipping_limit_date', 'price', 'freight_value'],\n      dtype='object')\nIndex(['order_id', 'payment_sequential', 'payment_type',\n       'payment_installments', 'payment_value'],\n      dtype='object')\nIndex(['review_id', 'order_id', 'review_score', 'review_comment_title',\n       'review_comment_message', 'review_creation_date',\n       'review_answer_timestamp'],\n      dtype='object')\nIndex(['order_id', 'customer_id', 'order_status', 'order_purchase_timestamp',\n       'order_approved_at', 'order_delivered_carrier_date',\n       'order_delivered_customer_date', 'order_estimated_delivery_date'],\n      dtype='object')\nIndex(['product_id', 'product_category_name', 'product_name_lenght',\n       'product_description_lenght', 'product_photos_qty', 'product_weight_g',\n       'product_length_cm', 'product_height_cm', 'product_width_cm'],\n      dtype='object')\nIndex(['seller_id', 'seller_zip_code_prefix', 'seller_city', 'seller_state'], dtype='object')\n"
     ]
    }
   ],
   "source": [
    "print(df_customers.columns)\n",
    "print(df_geolocation.columns)\n",
    "print(df_order_items.columns)\n",
    "print(df_order_payments.columns)\n",
    "print(df_order_reviews.columns)\n",
    "print(df_orders.columns)\n",
    "print(df_products.columns)\n",
    "print(df_sellers.columns)"
   ]
  },
  {
   "cell_type": "code",
   "execution_count": 4,
   "metadata": {},
   "outputs": [
    {
     "output_type": "stream",
     "name": "stdout",
     "text": [
      "customer_id                 object\ncustomer_unique_id          object\ncustomer_zip_code_prefix     int64\ncustomer_city               object\ncustomer_state              object\ndtype: object\ngeolocation_zip_code_prefix      int64\ngeolocation_lat                float64\ngeolocation_lng                float64\ngeolocation_city                object\ngeolocation_state               object\ndtype: object\norder_id                object\norder_item_id            int64\nproduct_id              object\nseller_id               object\nshipping_limit_date     object\nprice                  float64\nfreight_value          float64\ndtype: object\norder_id                 object\npayment_sequential        int64\npayment_type             object\npayment_installments      int64\npayment_value           float64\ndtype: object\nreview_id                  object\norder_id                   object\nreview_score                int64\nreview_comment_title       object\nreview_comment_message     object\nreview_creation_date       object\nreview_answer_timestamp    object\ndtype: object\norder_id                         object\ncustomer_id                      object\norder_status                     object\norder_purchase_timestamp         object\norder_approved_at                object\norder_delivered_carrier_date     object\norder_delivered_customer_date    object\norder_estimated_delivery_date    object\ndtype: object\nproduct_id                     object\nproduct_category_name          object\nproduct_name_lenght           float64\nproduct_description_lenght    float64\nproduct_photos_qty            float64\nproduct_weight_g              float64\nproduct_length_cm             float64\nproduct_height_cm             float64\nproduct_width_cm              float64\ndtype: object\nseller_id                 object\nseller_zip_code_prefix     int64\nseller_city               object\nseller_state              object\ndtype: object\n"
     ]
    }
   ],
   "source": [
    "print(df_customers.dtypes)\n",
    "print(df_geolocation.dtypes)\n",
    "print(df_order_items.dtypes)\n",
    "print(df_order_payments.dtypes)\n",
    "print(df_order_reviews.dtypes)\n",
    "print(df_orders.dtypes)\n",
    "print(df_products.dtypes)\n",
    "print(df_sellers.dtypes)"
   ]
  },
  {
   "cell_type": "code",
   "execution_count": 5,
   "metadata": {},
   "outputs": [
    {
     "output_type": "stream",
     "name": "stdout",
     "text": [
      "customer_id                 0\ncustomer_unique_id          0\ncustomer_zip_code_prefix    0\ncustomer_city               0\ncustomer_state              0\ndtype: int64\ngeolocation_zip_code_prefix    0\ngeolocation_lat                0\ngeolocation_lng                0\ngeolocation_city               0\ngeolocation_state              0\ndtype: int64\norder_id               0\norder_item_id          0\nproduct_id             0\nseller_id              0\nshipping_limit_date    0\nprice                  0\nfreight_value          0\ndtype: int64\norder_id                0\npayment_sequential      0\npayment_type            0\npayment_installments    0\npayment_value           0\ndtype: int64\nreview_id                      0\norder_id                       0\nreview_score                   0\nreview_comment_title       88285\nreview_comment_message     58247\nreview_creation_date           0\nreview_answer_timestamp        0\ndtype: int64\norder_id                            0\ncustomer_id                         0\norder_status                        0\norder_purchase_timestamp            0\norder_approved_at                 160\norder_delivered_carrier_date     1783\norder_delivered_customer_date    2965\norder_estimated_delivery_date       0\ndtype: int64\nproduct_id                      0\nproduct_category_name         610\nproduct_name_lenght           610\nproduct_description_lenght    610\nproduct_photos_qty            610\nproduct_weight_g                2\nproduct_length_cm               2\nproduct_height_cm               2\nproduct_width_cm                2\ndtype: int64\nseller_id                 0\nseller_zip_code_prefix    0\nseller_city               0\nseller_state              0\ndtype: int64\n"
     ]
    }
   ],
   "source": [
    "print(df_customers.isna().sum())\n",
    "print(df_geolocation.isna().sum())\n",
    "print(df_order_items.isna().sum())\n",
    "print(df_order_payments.isna().sum())\n",
    "print(df_order_reviews.isna().sum())    # Tiene NaN\n",
    "print(df_orders.isna().sum())           # Tiene NaN\n",
    "print(df_products.isna().sum())         # Tiene NaN\n",
    "print(df_sellers.isna().sum())"
   ]
  },
  {
   "source": [
    "Unir \"order\" dataframes"
   ],
   "cell_type": "markdown",
   "metadata": {}
  },
  {
   "cell_type": "code",
   "execution_count": 6,
   "metadata": {},
   "outputs": [
    {
     "output_type": "stream",
     "name": "stdout",
     "text": [
      "Orders\n Index(['order_id', 'customer_id', 'order_status', 'order_purchase_timestamp',\n       'order_approved_at', 'order_delivered_carrier_date',\n       'order_delivered_customer_date', 'order_estimated_delivery_date'],\n      dtype='object') (99441, 8)\nOrder payments\n Index(['order_id', 'payment_sequential', 'payment_type',\n       'payment_installments', 'payment_value'],\n      dtype='object') (103886, 5)\nOrder reviews\n Index(['review_id', 'order_id', 'review_score', 'review_comment_title',\n       'review_comment_message', 'review_creation_date',\n       'review_answer_timestamp'],\n      dtype='object') (100000, 7)\nOrder items\n Index(['order_id', 'order_item_id', 'product_id', 'seller_id',\n       'shipping_limit_date', 'price', 'freight_value'],\n      dtype='object') (112650, 7)\n"
     ]
    }
   ],
   "source": [
    "# Por ahora solo estoy considerando los dataframes de órdenes\n",
    "print(\"Orders\\n\", df_orders.columns, df_orders.shape)\n",
    "print(\"Order payments\\n\", df_order_payments.columns, df_order_payments.shape)\n",
    "print(\"Order reviews\\n\", df_order_reviews.columns, df_order_reviews.shape)\n",
    "print(\"Order items\\n\", df_order_items.columns, df_order_items.shape)"
   ]
  },
  {
   "source": [
    "Droppear los duplicados (por \"order_id\") de order_payments y de order_reviews para definir \"order_id\" como index"
   ],
   "cell_type": "markdown",
   "metadata": {}
  },
  {
   "cell_type": "code",
   "execution_count": 7,
   "metadata": {},
   "outputs": [],
   "source": [
    "# Falta agregar el dataset de items\n",
    "df_orders_complete = df_orders.set_index(\"order_id\")\n",
    "df_order_payments = df_order_payments.drop_duplicates(subset=[\"order_id\"]).set_index(\"order_id\")\n",
    "df_order_reviews = df_order_reviews.drop_duplicates(subset=[\"order_id\"]).set_index(\"order_id\")"
   ]
  },
  {
   "cell_type": "code",
   "execution_count": 8,
   "metadata": {},
   "outputs": [],
   "source": [
    "df_orders_complete = df_orders_complete.join(df_order_payments)\n",
    "df_orders_complete = df_orders_complete.join(df_order_reviews)"
   ]
  },
  {
   "cell_type": "code",
   "execution_count": 9,
   "metadata": {},
   "outputs": [
    {
     "output_type": "execute_result",
     "data": {
      "text/plain": [
       "                                                       customer_id  \\\n",
       "order_id                                                             \n",
       "e481f51cbdc54678b7cc49136f2d6af7  9ef432eb6251297304e76186b10a928d   \n",
       "53cdb2fc8bc7dce0b6741e2150273451  b0830fb4747a6c6d20dea0b8c802d7ef   \n",
       "47770eb9100c2d0c44946d9cf07ec65d  41ce2a54c0b03bf3443c3d931a367089   \n",
       "949d5b44dbf5de918fe9c16f97b45f8a  f88197465ea7920adcdbec7375364d82   \n",
       "ad21c59c0840e6cb83a9ceb5573f8159  8ab97904e6daea8866dbdbc4fb7aad2c   \n",
       "...                                                            ...   \n",
       "9c5dedf39a927c1b2549525ed64a053c  39bd1228ee8140590ac3aca26f2dfe00   \n",
       "63943bddc261676b46f01ca7ac2f7bd8  1fca14ff2861355f6e5f14306ff977a7   \n",
       "83c1379a015df1e13d02aae0204711ab  1aa71eb042121263aafbe80c1b562c9c   \n",
       "11c177c8e97725db2631073c19f07b62  b331b74b18dc79bcdf6532d51e1637c1   \n",
       "66dea50a8b16d9b4dee7af250b4be1a5  edb027a75a1449115f6b43211ae02a24   \n",
       "\n",
       "                                 order_status order_purchase_timestamp  \\\n",
       "order_id                                                                 \n",
       "e481f51cbdc54678b7cc49136f2d6af7    delivered      2017-10-02 10:56:33   \n",
       "53cdb2fc8bc7dce0b6741e2150273451    delivered      2018-07-24 20:41:37   \n",
       "47770eb9100c2d0c44946d9cf07ec65d    delivered      2018-08-08 08:38:49   \n",
       "949d5b44dbf5de918fe9c16f97b45f8a    delivered      2017-11-18 19:28:06   \n",
       "ad21c59c0840e6cb83a9ceb5573f8159    delivered      2018-02-13 21:18:39   \n",
       "...                                       ...                      ...   \n",
       "9c5dedf39a927c1b2549525ed64a053c    delivered      2017-03-09 09:54:05   \n",
       "63943bddc261676b46f01ca7ac2f7bd8    delivered      2018-02-06 12:58:58   \n",
       "83c1379a015df1e13d02aae0204711ab    delivered      2017-08-27 14:46:43   \n",
       "11c177c8e97725db2631073c19f07b62    delivered      2018-01-08 21:28:27   \n",
       "66dea50a8b16d9b4dee7af250b4be1a5    delivered      2018-03-08 20:57:30   \n",
       "\n",
       "                                    order_approved_at  \\\n",
       "order_id                                                \n",
       "e481f51cbdc54678b7cc49136f2d6af7  2017-10-02 11:07:15   \n",
       "53cdb2fc8bc7dce0b6741e2150273451  2018-07-26 03:24:27   \n",
       "47770eb9100c2d0c44946d9cf07ec65d  2018-08-08 08:55:23   \n",
       "949d5b44dbf5de918fe9c16f97b45f8a  2017-11-18 19:45:59   \n",
       "ad21c59c0840e6cb83a9ceb5573f8159  2018-02-13 22:20:29   \n",
       "...                                               ...   \n",
       "9c5dedf39a927c1b2549525ed64a053c  2017-03-09 09:54:05   \n",
       "63943bddc261676b46f01ca7ac2f7bd8  2018-02-06 13:10:37   \n",
       "83c1379a015df1e13d02aae0204711ab  2017-08-27 15:04:16   \n",
       "11c177c8e97725db2631073c19f07b62  2018-01-08 21:36:21   \n",
       "66dea50a8b16d9b4dee7af250b4be1a5  2018-03-09 11:20:28   \n",
       "\n",
       "                                 order_delivered_carrier_date  \\\n",
       "order_id                                                        \n",
       "e481f51cbdc54678b7cc49136f2d6af7          2017-10-04 19:55:00   \n",
       "53cdb2fc8bc7dce0b6741e2150273451          2018-07-26 14:31:00   \n",
       "47770eb9100c2d0c44946d9cf07ec65d          2018-08-08 13:50:00   \n",
       "949d5b44dbf5de918fe9c16f97b45f8a          2017-11-22 13:39:59   \n",
       "ad21c59c0840e6cb83a9ceb5573f8159          2018-02-14 19:46:34   \n",
       "...                                                       ...   \n",
       "9c5dedf39a927c1b2549525ed64a053c          2017-03-10 11:18:03   \n",
       "63943bddc261676b46f01ca7ac2f7bd8          2018-02-07 23:22:42   \n",
       "83c1379a015df1e13d02aae0204711ab          2017-08-28 20:52:26   \n",
       "11c177c8e97725db2631073c19f07b62          2018-01-12 15:35:03   \n",
       "66dea50a8b16d9b4dee7af250b4be1a5          2018-03-09 22:11:59   \n",
       "\n",
       "                                 order_delivered_customer_date  \\\n",
       "order_id                                                         \n",
       "e481f51cbdc54678b7cc49136f2d6af7           2017-10-10 21:25:13   \n",
       "53cdb2fc8bc7dce0b6741e2150273451           2018-08-07 15:27:45   \n",
       "47770eb9100c2d0c44946d9cf07ec65d           2018-08-17 18:06:29   \n",
       "949d5b44dbf5de918fe9c16f97b45f8a           2017-12-02 00:28:42   \n",
       "ad21c59c0840e6cb83a9ceb5573f8159           2018-02-16 18:17:02   \n",
       "...                                                        ...   \n",
       "9c5dedf39a927c1b2549525ed64a053c           2017-03-17 15:08:01   \n",
       "63943bddc261676b46f01ca7ac2f7bd8           2018-02-28 17:37:56   \n",
       "83c1379a015df1e13d02aae0204711ab           2017-09-21 11:24:17   \n",
       "11c177c8e97725db2631073c19f07b62           2018-01-25 23:32:54   \n",
       "66dea50a8b16d9b4dee7af250b4be1a5           2018-03-16 13:08:30   \n",
       "\n",
       "                                 order_estimated_delivery_date  \\\n",
       "order_id                                                         \n",
       "e481f51cbdc54678b7cc49136f2d6af7           2017-10-18 00:00:00   \n",
       "53cdb2fc8bc7dce0b6741e2150273451           2018-08-13 00:00:00   \n",
       "47770eb9100c2d0c44946d9cf07ec65d           2018-09-04 00:00:00   \n",
       "949d5b44dbf5de918fe9c16f97b45f8a           2017-12-15 00:00:00   \n",
       "ad21c59c0840e6cb83a9ceb5573f8159           2018-02-26 00:00:00   \n",
       "...                                                        ...   \n",
       "9c5dedf39a927c1b2549525ed64a053c           2017-03-28 00:00:00   \n",
       "63943bddc261676b46f01ca7ac2f7bd8           2018-03-02 00:00:00   \n",
       "83c1379a015df1e13d02aae0204711ab           2017-09-27 00:00:00   \n",
       "11c177c8e97725db2631073c19f07b62           2018-02-15 00:00:00   \n",
       "66dea50a8b16d9b4dee7af250b4be1a5           2018-04-03 00:00:00   \n",
       "\n",
       "                                  payment_sequential payment_type  \\\n",
       "order_id                                                            \n",
       "e481f51cbdc54678b7cc49136f2d6af7                 1.0  credit_card   \n",
       "53cdb2fc8bc7dce0b6741e2150273451                 1.0       boleto   \n",
       "47770eb9100c2d0c44946d9cf07ec65d                 1.0  credit_card   \n",
       "949d5b44dbf5de918fe9c16f97b45f8a                 1.0  credit_card   \n",
       "ad21c59c0840e6cb83a9ceb5573f8159                 1.0  credit_card   \n",
       "...                                              ...          ...   \n",
       "9c5dedf39a927c1b2549525ed64a053c                 1.0  credit_card   \n",
       "63943bddc261676b46f01ca7ac2f7bd8                 1.0  credit_card   \n",
       "83c1379a015df1e13d02aae0204711ab                 1.0  credit_card   \n",
       "11c177c8e97725db2631073c19f07b62                 1.0  credit_card   \n",
       "66dea50a8b16d9b4dee7af250b4be1a5                 1.0   debit_card   \n",
       "\n",
       "                                  payment_installments  payment_value  \\\n",
       "order_id                                                                \n",
       "e481f51cbdc54678b7cc49136f2d6af7                   1.0          18.12   \n",
       "53cdb2fc8bc7dce0b6741e2150273451                   1.0         141.46   \n",
       "47770eb9100c2d0c44946d9cf07ec65d                   3.0         179.12   \n",
       "949d5b44dbf5de918fe9c16f97b45f8a                   1.0          72.20   \n",
       "ad21c59c0840e6cb83a9ceb5573f8159                   1.0          28.62   \n",
       "...                                                ...            ...   \n",
       "9c5dedf39a927c1b2549525ed64a053c                   3.0          85.08   \n",
       "63943bddc261676b46f01ca7ac2f7bd8                   3.0         195.00   \n",
       "83c1379a015df1e13d02aae0204711ab                   5.0         271.01   \n",
       "11c177c8e97725db2631073c19f07b62                   4.0         441.16   \n",
       "66dea50a8b16d9b4dee7af250b4be1a5                   1.0          86.86   \n",
       "\n",
       "                                                         review_id  \\\n",
       "order_id                                                             \n",
       "e481f51cbdc54678b7cc49136f2d6af7  a54f0611adc9ed256b57ede6b6eb5114   \n",
       "53cdb2fc8bc7dce0b6741e2150273451  8d5266042046a06655c8db133d120ba5   \n",
       "47770eb9100c2d0c44946d9cf07ec65d  e73b67b67587f7644d5bd1a52deb1b01   \n",
       "949d5b44dbf5de918fe9c16f97b45f8a  359d03e676b3c069f62cadba8dd3f6e8   \n",
       "ad21c59c0840e6cb83a9ceb5573f8159  e50934924e227544ba8246aeb3770dd4   \n",
       "...                                                            ...   \n",
       "9c5dedf39a927c1b2549525ed64a053c  e262b3f92d1ce917aa412a9406cf61a6   \n",
       "63943bddc261676b46f01ca7ac2f7bd8  29bb71b2760d0f876dfa178a76bc4734   \n",
       "83c1379a015df1e13d02aae0204711ab  371579771219f6db2d830d50805977bb   \n",
       "11c177c8e97725db2631073c19f07b62  8ab6855b9fe9b812cd03a480a25058a1   \n",
       "66dea50a8b16d9b4dee7af250b4be1a5  dc9c59b4688062c25758c2be4cafc523   \n",
       "\n",
       "                                  review_score review_comment_title  \\\n",
       "order_id                                                              \n",
       "e481f51cbdc54678b7cc49136f2d6af7             4                  NaN   \n",
       "53cdb2fc8bc7dce0b6741e2150273451             4     Muito boa a loja   \n",
       "47770eb9100c2d0c44946d9cf07ec65d             5                  NaN   \n",
       "949d5b44dbf5de918fe9c16f97b45f8a             5                  NaN   \n",
       "ad21c59c0840e6cb83a9ceb5573f8159             5                  NaN   \n",
       "...                                        ...                  ...   \n",
       "9c5dedf39a927c1b2549525ed64a053c             5                  NaN   \n",
       "63943bddc261676b46f01ca7ac2f7bd8             4                  NaN   \n",
       "83c1379a015df1e13d02aae0204711ab             5                  NaN   \n",
       "11c177c8e97725db2631073c19f07b62             2                  NaN   \n",
       "66dea50a8b16d9b4dee7af250b4be1a5             5                  NaN   \n",
       "\n",
       "                                                             review_comment_message  \\\n",
       "order_id                                                                              \n",
       "e481f51cbdc54678b7cc49136f2d6af7  Não testei o produto ainda, mas ele veio corre...   \n",
       "53cdb2fc8bc7dce0b6741e2150273451                               Muito bom o produto.   \n",
       "47770eb9100c2d0c44946d9cf07ec65d                                                NaN   \n",
       "949d5b44dbf5de918fe9c16f97b45f8a  O produto foi exatamente o que eu esperava e e...   \n",
       "ad21c59c0840e6cb83a9ceb5573f8159                                                NaN   \n",
       "...                                                                             ...   \n",
       "9c5dedf39a927c1b2549525ed64a053c                                                NaN   \n",
       "63943bddc261676b46f01ca7ac2f7bd8       So uma peça que veio rachado mas tudo bem rs   \n",
       "83c1379a015df1e13d02aae0204711ab                       Foi entregue antes do prazo.   \n",
       "11c177c8e97725db2631073c19f07b62  Foi entregue somente 1. Quero saber do outro p...   \n",
       "66dea50a8b16d9b4dee7af250b4be1a5                                                NaN   \n",
       "\n",
       "                                 review_creation_date review_answer_timestamp  \n",
       "order_id                                                                       \n",
       "e481f51cbdc54678b7cc49136f2d6af7  2017-10-11 00:00:00     2017-10-12 03:43:48  \n",
       "53cdb2fc8bc7dce0b6741e2150273451  2018-08-08 00:00:00     2018-08-08 18:37:50  \n",
       "47770eb9100c2d0c44946d9cf07ec65d  2018-08-18 00:00:00     2018-08-22 19:07:58  \n",
       "949d5b44dbf5de918fe9c16f97b45f8a  2017-12-03 00:00:00     2017-12-05 19:21:58  \n",
       "ad21c59c0840e6cb83a9ceb5573f8159  2018-02-17 00:00:00     2018-02-18 13:02:51  \n",
       "...                                               ...                     ...  \n",
       "9c5dedf39a927c1b2549525ed64a053c  2017-03-22 00:00:00     2017-03-23 11:02:08  \n",
       "63943bddc261676b46f01ca7ac2f7bd8  2018-03-01 00:00:00     2018-03-02 17:50:01  \n",
       "83c1379a015df1e13d02aae0204711ab  2017-09-22 00:00:00     2017-09-22 23:10:57  \n",
       "11c177c8e97725db2631073c19f07b62  2018-01-26 00:00:00     2018-01-27 09:16:56  \n",
       "66dea50a8b16d9b4dee7af250b4be1a5  2018-03-17 00:00:00     2018-03-17 16:33:31  \n",
       "\n",
       "[99441 rows x 17 columns]"
      ],
      "text/html": "<div>\n<style scoped>\n    .dataframe tbody tr th:only-of-type {\n        vertical-align: middle;\n    }\n\n    .dataframe tbody tr th {\n        vertical-align: top;\n    }\n\n    .dataframe thead th {\n        text-align: right;\n    }\n</style>\n<table border=\"1\" class=\"dataframe\">\n  <thead>\n    <tr style=\"text-align: right;\">\n      <th></th>\n      <th>customer_id</th>\n      <th>order_status</th>\n      <th>order_purchase_timestamp</th>\n      <th>order_approved_at</th>\n      <th>order_delivered_carrier_date</th>\n      <th>order_delivered_customer_date</th>\n      <th>order_estimated_delivery_date</th>\n      <th>payment_sequential</th>\n      <th>payment_type</th>\n      <th>payment_installments</th>\n      <th>payment_value</th>\n      <th>review_id</th>\n      <th>review_score</th>\n      <th>review_comment_title</th>\n      <th>review_comment_message</th>\n      <th>review_creation_date</th>\n      <th>review_answer_timestamp</th>\n    </tr>\n    <tr>\n      <th>order_id</th>\n      <th></th>\n      <th></th>\n      <th></th>\n      <th></th>\n      <th></th>\n      <th></th>\n      <th></th>\n      <th></th>\n      <th></th>\n      <th></th>\n      <th></th>\n      <th></th>\n      <th></th>\n      <th></th>\n      <th></th>\n      <th></th>\n      <th></th>\n    </tr>\n  </thead>\n  <tbody>\n    <tr>\n      <th>e481f51cbdc54678b7cc49136f2d6af7</th>\n      <td>9ef432eb6251297304e76186b10a928d</td>\n      <td>delivered</td>\n      <td>2017-10-02 10:56:33</td>\n      <td>2017-10-02 11:07:15</td>\n      <td>2017-10-04 19:55:00</td>\n      <td>2017-10-10 21:25:13</td>\n      <td>2017-10-18 00:00:00</td>\n      <td>1.0</td>\n      <td>credit_card</td>\n      <td>1.0</td>\n      <td>18.12</td>\n      <td>a54f0611adc9ed256b57ede6b6eb5114</td>\n      <td>4</td>\n      <td>NaN</td>\n      <td>Não testei o produto ainda, mas ele veio corre...</td>\n      <td>2017-10-11 00:00:00</td>\n      <td>2017-10-12 03:43:48</td>\n    </tr>\n    <tr>\n      <th>53cdb2fc8bc7dce0b6741e2150273451</th>\n      <td>b0830fb4747a6c6d20dea0b8c802d7ef</td>\n      <td>delivered</td>\n      <td>2018-07-24 20:41:37</td>\n      <td>2018-07-26 03:24:27</td>\n      <td>2018-07-26 14:31:00</td>\n      <td>2018-08-07 15:27:45</td>\n      <td>2018-08-13 00:00:00</td>\n      <td>1.0</td>\n      <td>boleto</td>\n      <td>1.0</td>\n      <td>141.46</td>\n      <td>8d5266042046a06655c8db133d120ba5</td>\n      <td>4</td>\n      <td>Muito boa a loja</td>\n      <td>Muito bom o produto.</td>\n      <td>2018-08-08 00:00:00</td>\n      <td>2018-08-08 18:37:50</td>\n    </tr>\n    <tr>\n      <th>47770eb9100c2d0c44946d9cf07ec65d</th>\n      <td>41ce2a54c0b03bf3443c3d931a367089</td>\n      <td>delivered</td>\n      <td>2018-08-08 08:38:49</td>\n      <td>2018-08-08 08:55:23</td>\n      <td>2018-08-08 13:50:00</td>\n      <td>2018-08-17 18:06:29</td>\n      <td>2018-09-04 00:00:00</td>\n      <td>1.0</td>\n      <td>credit_card</td>\n      <td>3.0</td>\n      <td>179.12</td>\n      <td>e73b67b67587f7644d5bd1a52deb1b01</td>\n      <td>5</td>\n      <td>NaN</td>\n      <td>NaN</td>\n      <td>2018-08-18 00:00:00</td>\n      <td>2018-08-22 19:07:58</td>\n    </tr>\n    <tr>\n      <th>949d5b44dbf5de918fe9c16f97b45f8a</th>\n      <td>f88197465ea7920adcdbec7375364d82</td>\n      <td>delivered</td>\n      <td>2017-11-18 19:28:06</td>\n      <td>2017-11-18 19:45:59</td>\n      <td>2017-11-22 13:39:59</td>\n      <td>2017-12-02 00:28:42</td>\n      <td>2017-12-15 00:00:00</td>\n      <td>1.0</td>\n      <td>credit_card</td>\n      <td>1.0</td>\n      <td>72.20</td>\n      <td>359d03e676b3c069f62cadba8dd3f6e8</td>\n      <td>5</td>\n      <td>NaN</td>\n      <td>O produto foi exatamente o que eu esperava e e...</td>\n      <td>2017-12-03 00:00:00</td>\n      <td>2017-12-05 19:21:58</td>\n    </tr>\n    <tr>\n      <th>ad21c59c0840e6cb83a9ceb5573f8159</th>\n      <td>8ab97904e6daea8866dbdbc4fb7aad2c</td>\n      <td>delivered</td>\n      <td>2018-02-13 21:18:39</td>\n      <td>2018-02-13 22:20:29</td>\n      <td>2018-02-14 19:46:34</td>\n      <td>2018-02-16 18:17:02</td>\n      <td>2018-02-26 00:00:00</td>\n      <td>1.0</td>\n      <td>credit_card</td>\n      <td>1.0</td>\n      <td>28.62</td>\n      <td>e50934924e227544ba8246aeb3770dd4</td>\n      <td>5</td>\n      <td>NaN</td>\n      <td>NaN</td>\n      <td>2018-02-17 00:00:00</td>\n      <td>2018-02-18 13:02:51</td>\n    </tr>\n    <tr>\n      <th>...</th>\n      <td>...</td>\n      <td>...</td>\n      <td>...</td>\n      <td>...</td>\n      <td>...</td>\n      <td>...</td>\n      <td>...</td>\n      <td>...</td>\n      <td>...</td>\n      <td>...</td>\n      <td>...</td>\n      <td>...</td>\n      <td>...</td>\n      <td>...</td>\n      <td>...</td>\n      <td>...</td>\n      <td>...</td>\n    </tr>\n    <tr>\n      <th>9c5dedf39a927c1b2549525ed64a053c</th>\n      <td>39bd1228ee8140590ac3aca26f2dfe00</td>\n      <td>delivered</td>\n      <td>2017-03-09 09:54:05</td>\n      <td>2017-03-09 09:54:05</td>\n      <td>2017-03-10 11:18:03</td>\n      <td>2017-03-17 15:08:01</td>\n      <td>2017-03-28 00:00:00</td>\n      <td>1.0</td>\n      <td>credit_card</td>\n      <td>3.0</td>\n      <td>85.08</td>\n      <td>e262b3f92d1ce917aa412a9406cf61a6</td>\n      <td>5</td>\n      <td>NaN</td>\n      <td>NaN</td>\n      <td>2017-03-22 00:00:00</td>\n      <td>2017-03-23 11:02:08</td>\n    </tr>\n    <tr>\n      <th>63943bddc261676b46f01ca7ac2f7bd8</th>\n      <td>1fca14ff2861355f6e5f14306ff977a7</td>\n      <td>delivered</td>\n      <td>2018-02-06 12:58:58</td>\n      <td>2018-02-06 13:10:37</td>\n      <td>2018-02-07 23:22:42</td>\n      <td>2018-02-28 17:37:56</td>\n      <td>2018-03-02 00:00:00</td>\n      <td>1.0</td>\n      <td>credit_card</td>\n      <td>3.0</td>\n      <td>195.00</td>\n      <td>29bb71b2760d0f876dfa178a76bc4734</td>\n      <td>4</td>\n      <td>NaN</td>\n      <td>So uma peça que veio rachado mas tudo bem rs</td>\n      <td>2018-03-01 00:00:00</td>\n      <td>2018-03-02 17:50:01</td>\n    </tr>\n    <tr>\n      <th>83c1379a015df1e13d02aae0204711ab</th>\n      <td>1aa71eb042121263aafbe80c1b562c9c</td>\n      <td>delivered</td>\n      <td>2017-08-27 14:46:43</td>\n      <td>2017-08-27 15:04:16</td>\n      <td>2017-08-28 20:52:26</td>\n      <td>2017-09-21 11:24:17</td>\n      <td>2017-09-27 00:00:00</td>\n      <td>1.0</td>\n      <td>credit_card</td>\n      <td>5.0</td>\n      <td>271.01</td>\n      <td>371579771219f6db2d830d50805977bb</td>\n      <td>5</td>\n      <td>NaN</td>\n      <td>Foi entregue antes do prazo.</td>\n      <td>2017-09-22 00:00:00</td>\n      <td>2017-09-22 23:10:57</td>\n    </tr>\n    <tr>\n      <th>11c177c8e97725db2631073c19f07b62</th>\n      <td>b331b74b18dc79bcdf6532d51e1637c1</td>\n      <td>delivered</td>\n      <td>2018-01-08 21:28:27</td>\n      <td>2018-01-08 21:36:21</td>\n      <td>2018-01-12 15:35:03</td>\n      <td>2018-01-25 23:32:54</td>\n      <td>2018-02-15 00:00:00</td>\n      <td>1.0</td>\n      <td>credit_card</td>\n      <td>4.0</td>\n      <td>441.16</td>\n      <td>8ab6855b9fe9b812cd03a480a25058a1</td>\n      <td>2</td>\n      <td>NaN</td>\n      <td>Foi entregue somente 1. Quero saber do outro p...</td>\n      <td>2018-01-26 00:00:00</td>\n      <td>2018-01-27 09:16:56</td>\n    </tr>\n    <tr>\n      <th>66dea50a8b16d9b4dee7af250b4be1a5</th>\n      <td>edb027a75a1449115f6b43211ae02a24</td>\n      <td>delivered</td>\n      <td>2018-03-08 20:57:30</td>\n      <td>2018-03-09 11:20:28</td>\n      <td>2018-03-09 22:11:59</td>\n      <td>2018-03-16 13:08:30</td>\n      <td>2018-04-03 00:00:00</td>\n      <td>1.0</td>\n      <td>debit_card</td>\n      <td>1.0</td>\n      <td>86.86</td>\n      <td>dc9c59b4688062c25758c2be4cafc523</td>\n      <td>5</td>\n      <td>NaN</td>\n      <td>NaN</td>\n      <td>2018-03-17 00:00:00</td>\n      <td>2018-03-17 16:33:31</td>\n    </tr>\n  </tbody>\n</table>\n<p>99441 rows × 17 columns</p>\n</div>"
     },
     "metadata": {},
     "execution_count": 9
    }
   ],
   "source": [
    "df_orders_complete"
   ]
  },
  {
   "cell_type": "code",
   "execution_count": 10,
   "metadata": {},
   "outputs": [
    {
     "output_type": "execute_result",
     "data": {
      "text/plain": [
       "customer_id                          0\n",
       "order_status                         0\n",
       "order_purchase_timestamp             0\n",
       "order_approved_at                  160\n",
       "order_delivered_carrier_date      1783\n",
       "order_delivered_customer_date     2965\n",
       "order_estimated_delivery_date        0\n",
       "payment_sequential                   1\n",
       "payment_type                         1\n",
       "payment_installments                 1\n",
       "payment_value                        1\n",
       "review_id                            0\n",
       "review_score                         0\n",
       "review_comment_title             87744\n",
       "review_comment_message           57886\n",
       "review_creation_date                 0\n",
       "review_answer_timestamp              0\n",
       "dtype: int64"
      ]
     },
     "metadata": {},
     "execution_count": 10
    }
   ],
   "source": [
    "df_orders_complete.isna().sum()"
   ]
  },
  {
   "cell_type": "code",
   "execution_count": 11,
   "metadata": {},
   "outputs": [
    {
     "output_type": "execute_result",
     "data": {
      "text/plain": [
       "  order_status  count\n",
       "3    delivered  96478\n",
       "6      shipped   1107\n",
       "1     canceled    625\n",
       "7  unavailable    609\n",
       "4     invoiced    314\n",
       "5   processing    301\n",
       "2      created      5\n",
       "0     approved      2"
      ],
      "text/html": "<div>\n<style scoped>\n    .dataframe tbody tr th:only-of-type {\n        vertical-align: middle;\n    }\n\n    .dataframe tbody tr th {\n        vertical-align: top;\n    }\n\n    .dataframe thead th {\n        text-align: right;\n    }\n</style>\n<table border=\"1\" class=\"dataframe\">\n  <thead>\n    <tr style=\"text-align: right;\">\n      <th></th>\n      <th>order_status</th>\n      <th>count</th>\n    </tr>\n  </thead>\n  <tbody>\n    <tr>\n      <th>3</th>\n      <td>delivered</td>\n      <td>96478</td>\n    </tr>\n    <tr>\n      <th>6</th>\n      <td>shipped</td>\n      <td>1107</td>\n    </tr>\n    <tr>\n      <th>1</th>\n      <td>canceled</td>\n      <td>625</td>\n    </tr>\n    <tr>\n      <th>7</th>\n      <td>unavailable</td>\n      <td>609</td>\n    </tr>\n    <tr>\n      <th>4</th>\n      <td>invoiced</td>\n      <td>314</td>\n    </tr>\n    <tr>\n      <th>5</th>\n      <td>processing</td>\n      <td>301</td>\n    </tr>\n    <tr>\n      <th>2</th>\n      <td>created</td>\n      <td>5</td>\n    </tr>\n    <tr>\n      <th>0</th>\n      <td>approved</td>\n      <td>2</td>\n    </tr>\n  </tbody>\n</table>\n</div>"
     },
     "metadata": {},
     "execution_count": 11
    }
   ],
   "source": [
    "# Ver el estado de la entrega\n",
    "df_orders_complete.groupby([\"order_status\"]).size().reset_index(name='count').sort_values(by=\"count\", ascending=False)"
   ]
  },
  {
   "cell_type": "code",
   "execution_count": 12,
   "metadata": {},
   "outputs": [
    {
     "output_type": "execute_result",
     "data": {
      "text/plain": [
       "  payment_type  count\n",
       "1  credit_card  75387\n",
       "0       boleto  19784\n",
       "4      voucher   2739\n",
       "2   debit_card   1527\n",
       "3  not_defined      3"
      ],
      "text/html": "<div>\n<style scoped>\n    .dataframe tbody tr th:only-of-type {\n        vertical-align: middle;\n    }\n\n    .dataframe tbody tr th {\n        vertical-align: top;\n    }\n\n    .dataframe thead th {\n        text-align: right;\n    }\n</style>\n<table border=\"1\" class=\"dataframe\">\n  <thead>\n    <tr style=\"text-align: right;\">\n      <th></th>\n      <th>payment_type</th>\n      <th>count</th>\n    </tr>\n  </thead>\n  <tbody>\n    <tr>\n      <th>1</th>\n      <td>credit_card</td>\n      <td>75387</td>\n    </tr>\n    <tr>\n      <th>0</th>\n      <td>boleto</td>\n      <td>19784</td>\n    </tr>\n    <tr>\n      <th>4</th>\n      <td>voucher</td>\n      <td>2739</td>\n    </tr>\n    <tr>\n      <th>2</th>\n      <td>debit_card</td>\n      <td>1527</td>\n    </tr>\n    <tr>\n      <th>3</th>\n      <td>not_defined</td>\n      <td>3</td>\n    </tr>\n  </tbody>\n</table>\n</div>"
     },
     "metadata": {},
     "execution_count": 12
    }
   ],
   "source": [
    "# \"boleto\" significa \"billete\" en español, supongo que es efectivo\n",
    "# Son muchos los pagos mediante tarjeta de credito\n",
    "df_orders_complete.groupby([\"payment_type\"]).size().reset_index(name='count').sort_values(by=\"count\", ascending=False)"
   ]
  },
  {
   "cell_type": "code",
   "execution_count": 13,
   "metadata": {},
   "outputs": [
    {
     "output_type": "execute_result",
     "data": {
      "text/plain": [
       "    payment_sequential  count\n",
       "0                  1.0  97809\n",
       "1                  2.0   1354\n",
       "2                  3.0    150\n",
       "3                  4.0     54\n",
       "4                  5.0     24\n",
       "5                  6.0     20\n",
       "6                  7.0      9\n",
       "7                  8.0      7\n",
       "9                 10.0      5\n",
       "10                11.0      2\n",
       "8                  9.0      1\n",
       "11                14.0      1\n",
       "12                15.0      1\n",
       "13                17.0      1\n",
       "14                19.0      1\n",
       "15                27.0      1"
      ],
      "text/html": "<div>\n<style scoped>\n    .dataframe tbody tr th:only-of-type {\n        vertical-align: middle;\n    }\n\n    .dataframe tbody tr th {\n        vertical-align: top;\n    }\n\n    .dataframe thead th {\n        text-align: right;\n    }\n</style>\n<table border=\"1\" class=\"dataframe\">\n  <thead>\n    <tr style=\"text-align: right;\">\n      <th></th>\n      <th>payment_sequential</th>\n      <th>count</th>\n    </tr>\n  </thead>\n  <tbody>\n    <tr>\n      <th>0</th>\n      <td>1.0</td>\n      <td>97809</td>\n    </tr>\n    <tr>\n      <th>1</th>\n      <td>2.0</td>\n      <td>1354</td>\n    </tr>\n    <tr>\n      <th>2</th>\n      <td>3.0</td>\n      <td>150</td>\n    </tr>\n    <tr>\n      <th>3</th>\n      <td>4.0</td>\n      <td>54</td>\n    </tr>\n    <tr>\n      <th>4</th>\n      <td>5.0</td>\n      <td>24</td>\n    </tr>\n    <tr>\n      <th>5</th>\n      <td>6.0</td>\n      <td>20</td>\n    </tr>\n    <tr>\n      <th>6</th>\n      <td>7.0</td>\n      <td>9</td>\n    </tr>\n    <tr>\n      <th>7</th>\n      <td>8.0</td>\n      <td>7</td>\n    </tr>\n    <tr>\n      <th>9</th>\n      <td>10.0</td>\n      <td>5</td>\n    </tr>\n    <tr>\n      <th>10</th>\n      <td>11.0</td>\n      <td>2</td>\n    </tr>\n    <tr>\n      <th>8</th>\n      <td>9.0</td>\n      <td>1</td>\n    </tr>\n    <tr>\n      <th>11</th>\n      <td>14.0</td>\n      <td>1</td>\n    </tr>\n    <tr>\n      <th>12</th>\n      <td>15.0</td>\n      <td>1</td>\n    </tr>\n    <tr>\n      <th>13</th>\n      <td>17.0</td>\n      <td>1</td>\n    </tr>\n    <tr>\n      <th>14</th>\n      <td>19.0</td>\n      <td>1</td>\n    </tr>\n    <tr>\n      <th>15</th>\n      <td>27.0</td>\n      <td>1</td>\n    </tr>\n  </tbody>\n</table>\n</div>"
     },
     "metadata": {},
     "execution_count": 13
    }
   ],
   "source": [
    "# No se qué significa \"payment_sequential\"\n",
    "df_orders_complete.groupby([\"payment_sequential\"]).size().reset_index(name='count').sort_values(by=\"count\", ascending=False)"
   ]
  },
  {
   "cell_type": "code",
   "execution_count": null,
   "metadata": {},
   "outputs": [],
   "source": []
  }
 ]
}