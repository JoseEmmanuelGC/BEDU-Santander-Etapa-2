{
 "metadata": {
  "language_info": {
   "codemirror_mode": {
    "name": "ipython",
    "version": 3
   },
   "file_extension": ".py",
   "mimetype": "text/x-python",
   "name": "python",
   "nbconvert_exporter": "python",
   "pygments_lexer": "ipython3",
   "version": "3.9.2-final"
  },
  "orig_nbformat": 2,
  "kernelspec": {
   "name": "python3",
   "display_name": "Python 3.9.2 64-bit",
   "metadata": {
    "interpreter": {
     "hash": "5af8724d5e5fd996e86014c891ad2d4ea45d330f0c60307b707aff506df4b131"
    }
   }
  }
 },
 "nbformat": 4,
 "nbformat_minor": 2,
 "cells": [
  {
   "source": [
    "# Análisis de E-Commerce\n",
    "Importar las librerias que se utilizarán"
   ],
   "cell_type": "markdown",
   "metadata": {}
  },
  {
   "cell_type": "code",
   "execution_count": 1,
   "metadata": {},
   "outputs": [],
   "source": [
    "import pandas as pd\n",
    "import numpy as np"
   ]
  },
  {
   "source": [
    "Funciones que utilizaremos más adelante"
   ],
   "cell_type": "markdown",
   "metadata": {}
  },
  {
   "cell_type": "code",
   "execution_count": 2,
   "metadata": {},
   "outputs": [],
   "source": [
    "def get_percentage(value, total):\n",
    "    return value * 100 / total"
   ]
  },
  {
   "source": [
    "\n",
    "Cargar los datasets"
   ],
   "cell_type": "markdown",
   "metadata": {}
  },
  {
   "cell_type": "code",
   "execution_count": 3,
   "metadata": {},
   "outputs": [],
   "source": [
    "df_customers = pd.read_csv(\"olist_customers_dataset.csv\")\n",
    "df_geolocation = pd.read_csv(\"olist_geolocation_dataset.csv\")\n",
    "df_order_items = pd.read_csv(\"olist_order_items_dataset.csv\")\n",
    "df_order_payments = pd.read_csv(\"olist_order_payments_dataset.csv\")\n",
    "df_order_reviews = pd.read_csv(\"olist_order_reviews_dataset.csv\")\n",
    "df_orders = pd.read_csv(\"olist_orders_dataset.csv\")\n",
    "df_products = pd.read_csv(\"olist_products_dataset.csv\")\n",
    "df_sellers = pd.read_csv(\"olist_sellers_dataset.csv\")"
   ]
  },
  {
   "source": [
    "Analizar si alguna columna tiene un nombre poco descriptivo\n",
    "\n",
    "No, todo chido"
   ],
   "cell_type": "markdown",
   "metadata": {}
  },
  {
   "cell_type": "code",
   "execution_count": 4,
   "metadata": {},
   "outputs": [
    {
     "output_type": "stream",
     "name": "stdout",
     "text": [
      "Customers\nIndex(['customer_id', 'customer_unique_id', 'customer_zip_code_prefix',\n       'customer_city', 'customer_state'],\n      dtype='object')\n-------------------------\nGeolocation\nIndex(['geolocation_zip_code_prefix', 'geolocation_lat', 'geolocation_lng',\n       'geolocation_city', 'geolocation_state'],\n      dtype='object')\n-------------------------\nOrder Items\nIndex(['order_id', 'order_item_id', 'product_id', 'seller_id',\n       'shipping_limit_date', 'price', 'freight_value'],\n      dtype='object')\n-------------------------\nOrder Payments\nIndex(['order_id', 'payment_sequential', 'payment_type',\n       'payment_installments', 'payment_value'],\n      dtype='object')\n-------------------------\nOrder Reviews\nIndex(['review_id', 'order_id', 'review_score', 'review_comment_title',\n       'review_comment_message', 'review_creation_date',\n       'review_answer_timestamp'],\n      dtype='object')\n-------------------------\nOrders\nIndex(['order_id', 'customer_id', 'order_status', 'order_purchase_timestamp',\n       'order_approved_at', 'order_delivered_carrier_date',\n       'order_delivered_customer_date', 'order_estimated_delivery_date'],\n      dtype='object')\n-------------------------\nProducts\nIndex(['product_id', 'product_category_name', 'product_name_lenght',\n       'product_description_lenght', 'product_photos_qty', 'product_weight_g',\n       'product_length_cm', 'product_height_cm', 'product_width_cm'],\n      dtype='object')\n-------------------------\nSellers\nIndex(['seller_id', 'seller_zip_code_prefix', 'seller_city', 'seller_state'], dtype='object')\n"
     ]
    }
   ],
   "source": [
    "print(\"Customers\")\n",
    "print(df_customers.columns)\n",
    "print(\"-------------------------\")\n",
    "print(\"Geolocation\")\n",
    "print(df_geolocation.columns)\n",
    "print(\"-------------------------\")\n",
    "print(\"Order Items\")\n",
    "print(df_order_items.columns)\n",
    "print(\"-------------------------\")\n",
    "print(\"Order Payments\")\n",
    "print(df_order_payments.columns)\n",
    "print(\"-------------------------\")\n",
    "print(\"Order Reviews\")\n",
    "print(df_order_reviews.columns)\n",
    "print(\"-------------------------\")\n",
    "print(\"Orders\")\n",
    "print(df_orders.columns)\n",
    "print(\"-------------------------\")\n",
    "print(\"Products\")\n",
    "print(df_products.columns)\n",
    "print(\"-------------------------\")\n",
    "print(\"Sellers\")\n",
    "print(df_sellers.columns)"
   ]
  },
  {
   "source": [
    "Analizar si alguna columna tiene un tipo de dato que no le corresponda\n",
    "\n",
    "No, todo chido"
   ],
   "cell_type": "markdown",
   "metadata": {}
  },
  {
   "cell_type": "code",
   "execution_count": 5,
   "metadata": {},
   "outputs": [
    {
     "output_type": "stream",
     "name": "stdout",
     "text": [
      "Customers\ncustomer_id                 object\ncustomer_unique_id          object\ncustomer_zip_code_prefix     int64\ncustomer_city               object\ncustomer_state              object\ndtype: object\n-------------------------\nGeolocation\ngeolocation_zip_code_prefix      int64\ngeolocation_lat                float64\ngeolocation_lng                float64\ngeolocation_city                object\ngeolocation_state               object\ndtype: object\n-------------------------\nOrder Items\norder_id                object\norder_item_id            int64\nproduct_id              object\nseller_id               object\nshipping_limit_date     object\nprice                  float64\nfreight_value          float64\ndtype: object\n-------------------------\nOrder Payments\norder_id                 object\npayment_sequential        int64\npayment_type             object\npayment_installments      int64\npayment_value           float64\ndtype: object\n-------------------------\nOrder Reviews\nreview_id                  object\norder_id                   object\nreview_score                int64\nreview_comment_title       object\nreview_comment_message     object\nreview_creation_date       object\nreview_answer_timestamp    object\ndtype: object\n-------------------------\nOrders\norder_id                         object\ncustomer_id                      object\norder_status                     object\norder_purchase_timestamp         object\norder_approved_at                object\norder_delivered_carrier_date     object\norder_delivered_customer_date    object\norder_estimated_delivery_date    object\ndtype: object\n-------------------------\nProducts\nproduct_id                     object\nproduct_category_name          object\nproduct_name_lenght           float64\nproduct_description_lenght    float64\nproduct_photos_qty            float64\nproduct_weight_g              float64\nproduct_length_cm             float64\nproduct_height_cm             float64\nproduct_width_cm              float64\ndtype: object\n-------------------------\nSellers\nseller_id                 object\nseller_zip_code_prefix     int64\nseller_city               object\nseller_state              object\ndtype: object\n"
     ]
    }
   ],
   "source": [
    "print(\"Customers\")\n",
    "print(df_customers.dtypes)\n",
    "print(\"-------------------------\")\n",
    "print(\"Geolocation\")\n",
    "print(df_geolocation.dtypes)\n",
    "print(\"-------------------------\")\n",
    "print(\"Order Items\")\n",
    "print(df_order_items.dtypes)\n",
    "print(\"-------------------------\")\n",
    "print(\"Order Payments\")\n",
    "print(df_order_payments.dtypes)\n",
    "print(\"-------------------------\")\n",
    "print(\"Order Reviews\")\n",
    "print(df_order_reviews.dtypes)\n",
    "print(\"-------------------------\")\n",
    "print(\"Orders\")\n",
    "print(df_orders.dtypes)\n",
    "print(\"-------------------------\")\n",
    "print(\"Products\")\n",
    "print(df_products.dtypes)\n",
    "print(\"-------------------------\")\n",
    "print(\"Sellers\")\n",
    "print(df_sellers.dtypes)"
   ]
  },
  {
   "source": [
    "Definir tipo de date Datetime a las columnas correspondientes"
   ],
   "cell_type": "markdown",
   "metadata": {}
  },
  {
   "cell_type": "code",
   "execution_count": 6,
   "metadata": {},
   "outputs": [
    {
     "output_type": "stream",
     "name": "stdout",
     "text": [
      "Order Items\norder_id                       object\norder_item_id                   int64\nproduct_id                     object\nseller_id                      object\nshipping_limit_date    datetime64[ns]\nprice                         float64\nfreight_value                 float64\ndtype: object\n-------------------------\nOrder Reviews\nreview_id                          object\norder_id                           object\nreview_score                        int64\nreview_comment_title               object\nreview_comment_message             object\nreview_creation_date       datetime64[ns]\nreview_answer_timestamp    datetime64[ns]\ndtype: object\n-------------------------\nOrders\norder_id                                 object\ncustomer_id                              object\norder_status                             object\norder_purchase_timestamp         datetime64[ns]\norder_approved_at                datetime64[ns]\norder_delivered_carrier_date     datetime64[ns]\norder_delivered_customer_date    datetime64[ns]\norder_estimated_delivery_date    datetime64[ns]\ndtype: object\n"
     ]
    }
   ],
   "source": [
    "df_order_items[\"shipping_limit_date\"] = df_order_items[\"shipping_limit_date\"].astype('datetime64[ns]')\n",
    "df_order_reviews[\"review_creation_date\"] = df_order_reviews[\"review_creation_date\"].astype('datetime64[ns]')\n",
    "df_order_reviews[\"review_answer_timestamp\"] = df_order_reviews[\"review_answer_timestamp\"].astype('datetime64[ns]')\n",
    "df_orders[\"order_purchase_timestamp\"] = df_orders[\"order_purchase_timestamp\"].astype('datetime64[ns]')\n",
    "df_orders[\"order_approved_at\"] = df_orders[\"order_approved_at\"].astype('datetime64[ns]')\n",
    "df_orders[\"order_delivered_carrier_date\"] = df_orders[\"order_delivered_carrier_date\"].astype('datetime64[ns]')\n",
    "df_orders[\"order_delivered_customer_date\"] = df_orders[\"order_delivered_customer_date\"].astype('datetime64[ns]')\n",
    "df_orders[\"order_estimated_delivery_date\"] = df_orders[\"order_estimated_delivery_date\"].astype('datetime64[ns]')\n",
    "print(\"Order Items\")\n",
    "print(df_order_items.dtypes)\n",
    "print(\"-------------------------\")\n",
    "print(\"Order Reviews\")\n",
    "print(df_order_reviews.dtypes)\n",
    "print(\"-------------------------\")\n",
    "print(\"Orders\")\n",
    "print(df_orders.dtypes)"
   ]
  },
  {
   "source": [
    "Analizar si hay columnas que tengan datos nulos"
   ],
   "cell_type": "markdown",
   "metadata": {}
  },
  {
   "cell_type": "code",
   "execution_count": 7,
   "metadata": {},
   "outputs": [
    {
     "output_type": "stream",
     "name": "stdout",
     "text": [
      "Customers\ncustomer_id                 0\ncustomer_unique_id          0\ncustomer_zip_code_prefix    0\ncustomer_city               0\ncustomer_state              0\ndtype: int64\n-------------------------\nGeolocation\ngeolocation_zip_code_prefix    0\ngeolocation_lat                0\ngeolocation_lng                0\ngeolocation_city               0\ngeolocation_state              0\ndtype: int64\n-------------------------\nOrder Items\norder_id               0\norder_item_id          0\nproduct_id             0\nseller_id              0\nshipping_limit_date    0\nprice                  0\nfreight_value          0\ndtype: int64\n-------------------------\nOrder Payments\norder_id                0\npayment_sequential      0\npayment_type            0\npayment_installments    0\npayment_value           0\ndtype: int64\n-------------------------\nOrder Reviews\nreview_id                      0\norder_id                       0\nreview_score                   0\nreview_comment_title       88285\nreview_comment_message     58247\nreview_creation_date           0\nreview_answer_timestamp        0\ndtype: int64\n-------------------------\nOrders\norder_id                            0\ncustomer_id                         0\norder_status                        0\norder_purchase_timestamp            0\norder_approved_at                 160\norder_delivered_carrier_date     1783\norder_delivered_customer_date    2965\norder_estimated_delivery_date       0\ndtype: int64\n-------------------------\nProducts\nproduct_id                      0\nproduct_category_name         610\nproduct_name_lenght           610\nproduct_description_lenght    610\nproduct_photos_qty            610\nproduct_weight_g                2\nproduct_length_cm               2\nproduct_height_cm               2\nproduct_width_cm                2\ndtype: int64\n-------------------------\nSellers\nseller_id                 0\nseller_zip_code_prefix    0\nseller_city               0\nseller_state              0\ndtype: int64\n"
     ]
    }
   ],
   "source": [
    "print(\"Customers\")\n",
    "print(df_customers.isna().sum())\n",
    "print(\"-------------------------\")\n",
    "print(\"Geolocation\")\n",
    "print(df_geolocation.isna().sum())\n",
    "print(\"-------------------------\")\n",
    "print(\"Order Items\")\n",
    "print(df_order_items.isna().sum())\n",
    "print(\"-------------------------\")\n",
    "print(\"Order Payments\")\n",
    "print(df_order_payments.isna().sum())\n",
    "print(\"-------------------------\")\n",
    "print(\"Order Reviews\")\n",
    "print(df_order_reviews.isna().sum())    # Tiene NaN\n",
    "print(\"-------------------------\")\n",
    "print(\"Orders\")\n",
    "print(df_orders.isna().sum())           # Tiene NaN\n",
    "print(\"-------------------------\")\n",
    "print(\"Products\")\n",
    "print(df_products.isna().sum())         # Tiene NaN\n",
    "print(\"-------------------------\")\n",
    "print(\"Sellers\")\n",
    "print(df_sellers.isna().sum())"
   ]
  },
  {
   "source": [
    "### Datos nulos en \"Orders\"\n",
    "\n",
    "Dada la naturaleza de las ventas en línea pueden suceder algunas situaciones fuera de lo esperado, por ejemplo:\n",
    "- Los clientes pueden llegar a cancelar algunas compras\n",
    "- Los pedidos pueden perderse en el trayecto\n",
    "- Los pedidos pueden llegar a la dirección equivocada\n",
    "- El comprador no recoge el paquete en la paquetería\n",
    "\n",
    "Es comprensible que haya datos nulos aspectos como la aprobación de la order, la fecha de envío y la fecha de entrega\n",
    "\n",
    "### Datos nulos en \"Order Reviews\"\n",
    "\n",
    "Debido a que los comentarios no son obligatorios al recibir un producto, es entendible que haya valores nulos en las reviews, sin embargo, parece que es obligatorio dejar una calificación"
   ],
   "cell_type": "markdown",
   "metadata": {}
  },
  {
   "source": [
    "Para facilitar el análisis exploratorio de los datos se decidió unir los datasets relacionados con las órdenes de compra/venta"
   ],
   "cell_type": "markdown",
   "metadata": {}
  },
  {
   "cell_type": "code",
   "execution_count": 8,
   "metadata": {},
   "outputs": [
    {
     "output_type": "stream",
     "name": "stdout",
     "text": [
      "Orders (99441, 8)\nIndex(['order_id', 'customer_id', 'order_status', 'order_purchase_timestamp',\n       'order_approved_at', 'order_delivered_carrier_date',\n       'order_delivered_customer_date', 'order_estimated_delivery_date'],\n      dtype='object')\n-------------------------\nOrder payments (103886, 5)\nIndex(['order_id', 'payment_sequential', 'payment_type',\n       'payment_installments', 'payment_value'],\n      dtype='object')\n-------------------------\nOrder reviews (100000, 7)\nIndex(['review_id', 'order_id', 'review_score', 'review_comment_title',\n       'review_comment_message', 'review_creation_date',\n       'review_answer_timestamp'],\n      dtype='object')\n-------------------------\nOrder items (112650, 7)\nIndex(['order_id', 'order_item_id', 'product_id', 'seller_id',\n       'shipping_limit_date', 'price', 'freight_value'],\n      dtype='object')\n"
     ]
    }
   ],
   "source": [
    "print(\"Orders\", df_orders.shape)\n",
    "print(df_orders.columns)\n",
    "print(\"-------------------------\")\n",
    "print(\"Order payments\", df_order_payments.shape)\n",
    "print(df_order_payments.columns)\n",
    "print(\"-------------------------\")\n",
    "print(\"Order reviews\", df_order_reviews.shape)\n",
    "print(df_order_reviews.columns)\n",
    "print(\"-------------------------\")\n",
    "print(\"Order items\", df_order_items.shape)\n",
    "print(df_order_items.columns)"
   ]
  },
  {
   "source": [
    "Droppear los duplicados (por \"order_id\") de order_payments y de order_reviews para definir \"order_id\" como index"
   ],
   "cell_type": "markdown",
   "metadata": {}
  },
  {
   "cell_type": "code",
   "execution_count": 9,
   "metadata": {},
   "outputs": [],
   "source": [
    "# Falta agregar el dataset de items\n",
    "df_orders_complete = df_orders.set_index(\"order_id\")\n",
    "df_order_payments_dropped = df_order_payments.drop_duplicates(subset=[\"order_id\"]).set_index(\"order_id\")\n",
    "df_order_reviews_dropped = df_order_reviews.drop_duplicates(subset=[\"order_id\"]).set_index(\"order_id\")"
   ]
  },
  {
   "source": [
    "Unir los dataframes para crear uno con todas las columnas"
   ],
   "cell_type": "markdown",
   "metadata": {}
  },
  {
   "cell_type": "code",
   "execution_count": 10,
   "metadata": {},
   "outputs": [],
   "source": [
    "df_orders_complete = df_orders_complete.join(df_order_payments_dropped)\n",
    "df_orders_complete = df_orders_complete.join(df_order_reviews_dropped)"
   ]
  },
  {
   "cell_type": "code",
   "execution_count": 11,
   "metadata": {},
   "outputs": [
    {
     "output_type": "execute_result",
     "data": {
      "text/plain": [
       "                                                       customer_id  \\\n",
       "order_id                                                             \n",
       "e481f51cbdc54678b7cc49136f2d6af7  9ef432eb6251297304e76186b10a928d   \n",
       "53cdb2fc8bc7dce0b6741e2150273451  b0830fb4747a6c6d20dea0b8c802d7ef   \n",
       "47770eb9100c2d0c44946d9cf07ec65d  41ce2a54c0b03bf3443c3d931a367089   \n",
       "949d5b44dbf5de918fe9c16f97b45f8a  f88197465ea7920adcdbec7375364d82   \n",
       "ad21c59c0840e6cb83a9ceb5573f8159  8ab97904e6daea8866dbdbc4fb7aad2c   \n",
       "...                                                            ...   \n",
       "9c5dedf39a927c1b2549525ed64a053c  39bd1228ee8140590ac3aca26f2dfe00   \n",
       "63943bddc261676b46f01ca7ac2f7bd8  1fca14ff2861355f6e5f14306ff977a7   \n",
       "83c1379a015df1e13d02aae0204711ab  1aa71eb042121263aafbe80c1b562c9c   \n",
       "11c177c8e97725db2631073c19f07b62  b331b74b18dc79bcdf6532d51e1637c1   \n",
       "66dea50a8b16d9b4dee7af250b4be1a5  edb027a75a1449115f6b43211ae02a24   \n",
       "\n",
       "                                 order_status order_purchase_timestamp  \\\n",
       "order_id                                                                 \n",
       "e481f51cbdc54678b7cc49136f2d6af7    delivered      2017-10-02 10:56:33   \n",
       "53cdb2fc8bc7dce0b6741e2150273451    delivered      2018-07-24 20:41:37   \n",
       "47770eb9100c2d0c44946d9cf07ec65d    delivered      2018-08-08 08:38:49   \n",
       "949d5b44dbf5de918fe9c16f97b45f8a    delivered      2017-11-18 19:28:06   \n",
       "ad21c59c0840e6cb83a9ceb5573f8159    delivered      2018-02-13 21:18:39   \n",
       "...                                       ...                      ...   \n",
       "9c5dedf39a927c1b2549525ed64a053c    delivered      2017-03-09 09:54:05   \n",
       "63943bddc261676b46f01ca7ac2f7bd8    delivered      2018-02-06 12:58:58   \n",
       "83c1379a015df1e13d02aae0204711ab    delivered      2017-08-27 14:46:43   \n",
       "11c177c8e97725db2631073c19f07b62    delivered      2018-01-08 21:28:27   \n",
       "66dea50a8b16d9b4dee7af250b4be1a5    delivered      2018-03-08 20:57:30   \n",
       "\n",
       "                                   order_approved_at  \\\n",
       "order_id                                               \n",
       "e481f51cbdc54678b7cc49136f2d6af7 2017-10-02 11:07:15   \n",
       "53cdb2fc8bc7dce0b6741e2150273451 2018-07-26 03:24:27   \n",
       "47770eb9100c2d0c44946d9cf07ec65d 2018-08-08 08:55:23   \n",
       "949d5b44dbf5de918fe9c16f97b45f8a 2017-11-18 19:45:59   \n",
       "ad21c59c0840e6cb83a9ceb5573f8159 2018-02-13 22:20:29   \n",
       "...                                              ...   \n",
       "9c5dedf39a927c1b2549525ed64a053c 2017-03-09 09:54:05   \n",
       "63943bddc261676b46f01ca7ac2f7bd8 2018-02-06 13:10:37   \n",
       "83c1379a015df1e13d02aae0204711ab 2017-08-27 15:04:16   \n",
       "11c177c8e97725db2631073c19f07b62 2018-01-08 21:36:21   \n",
       "66dea50a8b16d9b4dee7af250b4be1a5 2018-03-09 11:20:28   \n",
       "\n",
       "                                 order_delivered_carrier_date  \\\n",
       "order_id                                                        \n",
       "e481f51cbdc54678b7cc49136f2d6af7          2017-10-04 19:55:00   \n",
       "53cdb2fc8bc7dce0b6741e2150273451          2018-07-26 14:31:00   \n",
       "47770eb9100c2d0c44946d9cf07ec65d          2018-08-08 13:50:00   \n",
       "949d5b44dbf5de918fe9c16f97b45f8a          2017-11-22 13:39:59   \n",
       "ad21c59c0840e6cb83a9ceb5573f8159          2018-02-14 19:46:34   \n",
       "...                                                       ...   \n",
       "9c5dedf39a927c1b2549525ed64a053c          2017-03-10 11:18:03   \n",
       "63943bddc261676b46f01ca7ac2f7bd8          2018-02-07 23:22:42   \n",
       "83c1379a015df1e13d02aae0204711ab          2017-08-28 20:52:26   \n",
       "11c177c8e97725db2631073c19f07b62          2018-01-12 15:35:03   \n",
       "66dea50a8b16d9b4dee7af250b4be1a5          2018-03-09 22:11:59   \n",
       "\n",
       "                                 order_delivered_customer_date  \\\n",
       "order_id                                                         \n",
       "e481f51cbdc54678b7cc49136f2d6af7           2017-10-10 21:25:13   \n",
       "53cdb2fc8bc7dce0b6741e2150273451           2018-08-07 15:27:45   \n",
       "47770eb9100c2d0c44946d9cf07ec65d           2018-08-17 18:06:29   \n",
       "949d5b44dbf5de918fe9c16f97b45f8a           2017-12-02 00:28:42   \n",
       "ad21c59c0840e6cb83a9ceb5573f8159           2018-02-16 18:17:02   \n",
       "...                                                        ...   \n",
       "9c5dedf39a927c1b2549525ed64a053c           2017-03-17 15:08:01   \n",
       "63943bddc261676b46f01ca7ac2f7bd8           2018-02-28 17:37:56   \n",
       "83c1379a015df1e13d02aae0204711ab           2017-09-21 11:24:17   \n",
       "11c177c8e97725db2631073c19f07b62           2018-01-25 23:32:54   \n",
       "66dea50a8b16d9b4dee7af250b4be1a5           2018-03-16 13:08:30   \n",
       "\n",
       "                                 order_estimated_delivery_date  \\\n",
       "order_id                                                         \n",
       "e481f51cbdc54678b7cc49136f2d6af7                    2017-10-18   \n",
       "53cdb2fc8bc7dce0b6741e2150273451                    2018-08-13   \n",
       "47770eb9100c2d0c44946d9cf07ec65d                    2018-09-04   \n",
       "949d5b44dbf5de918fe9c16f97b45f8a                    2017-12-15   \n",
       "ad21c59c0840e6cb83a9ceb5573f8159                    2018-02-26   \n",
       "...                                                        ...   \n",
       "9c5dedf39a927c1b2549525ed64a053c                    2017-03-28   \n",
       "63943bddc261676b46f01ca7ac2f7bd8                    2018-03-02   \n",
       "83c1379a015df1e13d02aae0204711ab                    2017-09-27   \n",
       "11c177c8e97725db2631073c19f07b62                    2018-02-15   \n",
       "66dea50a8b16d9b4dee7af250b4be1a5                    2018-04-03   \n",
       "\n",
       "                                  payment_sequential payment_type  \\\n",
       "order_id                                                            \n",
       "e481f51cbdc54678b7cc49136f2d6af7                 1.0  credit_card   \n",
       "53cdb2fc8bc7dce0b6741e2150273451                 1.0       boleto   \n",
       "47770eb9100c2d0c44946d9cf07ec65d                 1.0  credit_card   \n",
       "949d5b44dbf5de918fe9c16f97b45f8a                 1.0  credit_card   \n",
       "ad21c59c0840e6cb83a9ceb5573f8159                 1.0  credit_card   \n",
       "...                                              ...          ...   \n",
       "9c5dedf39a927c1b2549525ed64a053c                 1.0  credit_card   \n",
       "63943bddc261676b46f01ca7ac2f7bd8                 1.0  credit_card   \n",
       "83c1379a015df1e13d02aae0204711ab                 1.0  credit_card   \n",
       "11c177c8e97725db2631073c19f07b62                 1.0  credit_card   \n",
       "66dea50a8b16d9b4dee7af250b4be1a5                 1.0   debit_card   \n",
       "\n",
       "                                  payment_installments  payment_value  \\\n",
       "order_id                                                                \n",
       "e481f51cbdc54678b7cc49136f2d6af7                   1.0          18.12   \n",
       "53cdb2fc8bc7dce0b6741e2150273451                   1.0         141.46   \n",
       "47770eb9100c2d0c44946d9cf07ec65d                   3.0         179.12   \n",
       "949d5b44dbf5de918fe9c16f97b45f8a                   1.0          72.20   \n",
       "ad21c59c0840e6cb83a9ceb5573f8159                   1.0          28.62   \n",
       "...                                                ...            ...   \n",
       "9c5dedf39a927c1b2549525ed64a053c                   3.0          85.08   \n",
       "63943bddc261676b46f01ca7ac2f7bd8                   3.0         195.00   \n",
       "83c1379a015df1e13d02aae0204711ab                   5.0         271.01   \n",
       "11c177c8e97725db2631073c19f07b62                   4.0         441.16   \n",
       "66dea50a8b16d9b4dee7af250b4be1a5                   1.0          86.86   \n",
       "\n",
       "                                                         review_id  \\\n",
       "order_id                                                             \n",
       "e481f51cbdc54678b7cc49136f2d6af7  a54f0611adc9ed256b57ede6b6eb5114   \n",
       "53cdb2fc8bc7dce0b6741e2150273451  8d5266042046a06655c8db133d120ba5   \n",
       "47770eb9100c2d0c44946d9cf07ec65d  e73b67b67587f7644d5bd1a52deb1b01   \n",
       "949d5b44dbf5de918fe9c16f97b45f8a  359d03e676b3c069f62cadba8dd3f6e8   \n",
       "ad21c59c0840e6cb83a9ceb5573f8159  e50934924e227544ba8246aeb3770dd4   \n",
       "...                                                            ...   \n",
       "9c5dedf39a927c1b2549525ed64a053c  e262b3f92d1ce917aa412a9406cf61a6   \n",
       "63943bddc261676b46f01ca7ac2f7bd8  29bb71b2760d0f876dfa178a76bc4734   \n",
       "83c1379a015df1e13d02aae0204711ab  371579771219f6db2d830d50805977bb   \n",
       "11c177c8e97725db2631073c19f07b62  8ab6855b9fe9b812cd03a480a25058a1   \n",
       "66dea50a8b16d9b4dee7af250b4be1a5  dc9c59b4688062c25758c2be4cafc523   \n",
       "\n",
       "                                  review_score review_comment_title  \\\n",
       "order_id                                                              \n",
       "e481f51cbdc54678b7cc49136f2d6af7             4                  NaN   \n",
       "53cdb2fc8bc7dce0b6741e2150273451             4     Muito boa a loja   \n",
       "47770eb9100c2d0c44946d9cf07ec65d             5                  NaN   \n",
       "949d5b44dbf5de918fe9c16f97b45f8a             5                  NaN   \n",
       "ad21c59c0840e6cb83a9ceb5573f8159             5                  NaN   \n",
       "...                                        ...                  ...   \n",
       "9c5dedf39a927c1b2549525ed64a053c             5                  NaN   \n",
       "63943bddc261676b46f01ca7ac2f7bd8             4                  NaN   \n",
       "83c1379a015df1e13d02aae0204711ab             5                  NaN   \n",
       "11c177c8e97725db2631073c19f07b62             2                  NaN   \n",
       "66dea50a8b16d9b4dee7af250b4be1a5             5                  NaN   \n",
       "\n",
       "                                                             review_comment_message  \\\n",
       "order_id                                                                              \n",
       "e481f51cbdc54678b7cc49136f2d6af7  Não testei o produto ainda, mas ele veio corre...   \n",
       "53cdb2fc8bc7dce0b6741e2150273451                               Muito bom o produto.   \n",
       "47770eb9100c2d0c44946d9cf07ec65d                                                NaN   \n",
       "949d5b44dbf5de918fe9c16f97b45f8a  O produto foi exatamente o que eu esperava e e...   \n",
       "ad21c59c0840e6cb83a9ceb5573f8159                                                NaN   \n",
       "...                                                                             ...   \n",
       "9c5dedf39a927c1b2549525ed64a053c                                                NaN   \n",
       "63943bddc261676b46f01ca7ac2f7bd8       So uma peça que veio rachado mas tudo bem rs   \n",
       "83c1379a015df1e13d02aae0204711ab                       Foi entregue antes do prazo.   \n",
       "11c177c8e97725db2631073c19f07b62  Foi entregue somente 1. Quero saber do outro p...   \n",
       "66dea50a8b16d9b4dee7af250b4be1a5                                                NaN   \n",
       "\n",
       "                                 review_creation_date review_answer_timestamp  \n",
       "order_id                                                                       \n",
       "e481f51cbdc54678b7cc49136f2d6af7           2017-10-11     2017-10-12 03:43:48  \n",
       "53cdb2fc8bc7dce0b6741e2150273451           2018-08-08     2018-08-08 18:37:50  \n",
       "47770eb9100c2d0c44946d9cf07ec65d           2018-08-18     2018-08-22 19:07:58  \n",
       "949d5b44dbf5de918fe9c16f97b45f8a           2017-12-03     2017-12-05 19:21:58  \n",
       "ad21c59c0840e6cb83a9ceb5573f8159           2018-02-17     2018-02-18 13:02:51  \n",
       "...                                               ...                     ...  \n",
       "9c5dedf39a927c1b2549525ed64a053c           2017-03-22     2017-03-23 11:02:08  \n",
       "63943bddc261676b46f01ca7ac2f7bd8           2018-03-01     2018-03-02 17:50:01  \n",
       "83c1379a015df1e13d02aae0204711ab           2017-09-22     2017-09-22 23:10:57  \n",
       "11c177c8e97725db2631073c19f07b62           2018-01-26     2018-01-27 09:16:56  \n",
       "66dea50a8b16d9b4dee7af250b4be1a5           2018-03-17     2018-03-17 16:33:31  \n",
       "\n",
       "[99441 rows x 17 columns]"
      ],
      "text/html": "<div>\n<style scoped>\n    .dataframe tbody tr th:only-of-type {\n        vertical-align: middle;\n    }\n\n    .dataframe tbody tr th {\n        vertical-align: top;\n    }\n\n    .dataframe thead th {\n        text-align: right;\n    }\n</style>\n<table border=\"1\" class=\"dataframe\">\n  <thead>\n    <tr style=\"text-align: right;\">\n      <th></th>\n      <th>customer_id</th>\n      <th>order_status</th>\n      <th>order_purchase_timestamp</th>\n      <th>order_approved_at</th>\n      <th>order_delivered_carrier_date</th>\n      <th>order_delivered_customer_date</th>\n      <th>order_estimated_delivery_date</th>\n      <th>payment_sequential</th>\n      <th>payment_type</th>\n      <th>payment_installments</th>\n      <th>payment_value</th>\n      <th>review_id</th>\n      <th>review_score</th>\n      <th>review_comment_title</th>\n      <th>review_comment_message</th>\n      <th>review_creation_date</th>\n      <th>review_answer_timestamp</th>\n    </tr>\n    <tr>\n      <th>order_id</th>\n      <th></th>\n      <th></th>\n      <th></th>\n      <th></th>\n      <th></th>\n      <th></th>\n      <th></th>\n      <th></th>\n      <th></th>\n      <th></th>\n      <th></th>\n      <th></th>\n      <th></th>\n      <th></th>\n      <th></th>\n      <th></th>\n      <th></th>\n    </tr>\n  </thead>\n  <tbody>\n    <tr>\n      <th>e481f51cbdc54678b7cc49136f2d6af7</th>\n      <td>9ef432eb6251297304e76186b10a928d</td>\n      <td>delivered</td>\n      <td>2017-10-02 10:56:33</td>\n      <td>2017-10-02 11:07:15</td>\n      <td>2017-10-04 19:55:00</td>\n      <td>2017-10-10 21:25:13</td>\n      <td>2017-10-18</td>\n      <td>1.0</td>\n      <td>credit_card</td>\n      <td>1.0</td>\n      <td>18.12</td>\n      <td>a54f0611adc9ed256b57ede6b6eb5114</td>\n      <td>4</td>\n      <td>NaN</td>\n      <td>Não testei o produto ainda, mas ele veio corre...</td>\n      <td>2017-10-11</td>\n      <td>2017-10-12 03:43:48</td>\n    </tr>\n    <tr>\n      <th>53cdb2fc8bc7dce0b6741e2150273451</th>\n      <td>b0830fb4747a6c6d20dea0b8c802d7ef</td>\n      <td>delivered</td>\n      <td>2018-07-24 20:41:37</td>\n      <td>2018-07-26 03:24:27</td>\n      <td>2018-07-26 14:31:00</td>\n      <td>2018-08-07 15:27:45</td>\n      <td>2018-08-13</td>\n      <td>1.0</td>\n      <td>boleto</td>\n      <td>1.0</td>\n      <td>141.46</td>\n      <td>8d5266042046a06655c8db133d120ba5</td>\n      <td>4</td>\n      <td>Muito boa a loja</td>\n      <td>Muito bom o produto.</td>\n      <td>2018-08-08</td>\n      <td>2018-08-08 18:37:50</td>\n    </tr>\n    <tr>\n      <th>47770eb9100c2d0c44946d9cf07ec65d</th>\n      <td>41ce2a54c0b03bf3443c3d931a367089</td>\n      <td>delivered</td>\n      <td>2018-08-08 08:38:49</td>\n      <td>2018-08-08 08:55:23</td>\n      <td>2018-08-08 13:50:00</td>\n      <td>2018-08-17 18:06:29</td>\n      <td>2018-09-04</td>\n      <td>1.0</td>\n      <td>credit_card</td>\n      <td>3.0</td>\n      <td>179.12</td>\n      <td>e73b67b67587f7644d5bd1a52deb1b01</td>\n      <td>5</td>\n      <td>NaN</td>\n      <td>NaN</td>\n      <td>2018-08-18</td>\n      <td>2018-08-22 19:07:58</td>\n    </tr>\n    <tr>\n      <th>949d5b44dbf5de918fe9c16f97b45f8a</th>\n      <td>f88197465ea7920adcdbec7375364d82</td>\n      <td>delivered</td>\n      <td>2017-11-18 19:28:06</td>\n      <td>2017-11-18 19:45:59</td>\n      <td>2017-11-22 13:39:59</td>\n      <td>2017-12-02 00:28:42</td>\n      <td>2017-12-15</td>\n      <td>1.0</td>\n      <td>credit_card</td>\n      <td>1.0</td>\n      <td>72.20</td>\n      <td>359d03e676b3c069f62cadba8dd3f6e8</td>\n      <td>5</td>\n      <td>NaN</td>\n      <td>O produto foi exatamente o que eu esperava e e...</td>\n      <td>2017-12-03</td>\n      <td>2017-12-05 19:21:58</td>\n    </tr>\n    <tr>\n      <th>ad21c59c0840e6cb83a9ceb5573f8159</th>\n      <td>8ab97904e6daea8866dbdbc4fb7aad2c</td>\n      <td>delivered</td>\n      <td>2018-02-13 21:18:39</td>\n      <td>2018-02-13 22:20:29</td>\n      <td>2018-02-14 19:46:34</td>\n      <td>2018-02-16 18:17:02</td>\n      <td>2018-02-26</td>\n      <td>1.0</td>\n      <td>credit_card</td>\n      <td>1.0</td>\n      <td>28.62</td>\n      <td>e50934924e227544ba8246aeb3770dd4</td>\n      <td>5</td>\n      <td>NaN</td>\n      <td>NaN</td>\n      <td>2018-02-17</td>\n      <td>2018-02-18 13:02:51</td>\n    </tr>\n    <tr>\n      <th>...</th>\n      <td>...</td>\n      <td>...</td>\n      <td>...</td>\n      <td>...</td>\n      <td>...</td>\n      <td>...</td>\n      <td>...</td>\n      <td>...</td>\n      <td>...</td>\n      <td>...</td>\n      <td>...</td>\n      <td>...</td>\n      <td>...</td>\n      <td>...</td>\n      <td>...</td>\n      <td>...</td>\n      <td>...</td>\n    </tr>\n    <tr>\n      <th>9c5dedf39a927c1b2549525ed64a053c</th>\n      <td>39bd1228ee8140590ac3aca26f2dfe00</td>\n      <td>delivered</td>\n      <td>2017-03-09 09:54:05</td>\n      <td>2017-03-09 09:54:05</td>\n      <td>2017-03-10 11:18:03</td>\n      <td>2017-03-17 15:08:01</td>\n      <td>2017-03-28</td>\n      <td>1.0</td>\n      <td>credit_card</td>\n      <td>3.0</td>\n      <td>85.08</td>\n      <td>e262b3f92d1ce917aa412a9406cf61a6</td>\n      <td>5</td>\n      <td>NaN</td>\n      <td>NaN</td>\n      <td>2017-03-22</td>\n      <td>2017-03-23 11:02:08</td>\n    </tr>\n    <tr>\n      <th>63943bddc261676b46f01ca7ac2f7bd8</th>\n      <td>1fca14ff2861355f6e5f14306ff977a7</td>\n      <td>delivered</td>\n      <td>2018-02-06 12:58:58</td>\n      <td>2018-02-06 13:10:37</td>\n      <td>2018-02-07 23:22:42</td>\n      <td>2018-02-28 17:37:56</td>\n      <td>2018-03-02</td>\n      <td>1.0</td>\n      <td>credit_card</td>\n      <td>3.0</td>\n      <td>195.00</td>\n      <td>29bb71b2760d0f876dfa178a76bc4734</td>\n      <td>4</td>\n      <td>NaN</td>\n      <td>So uma peça que veio rachado mas tudo bem rs</td>\n      <td>2018-03-01</td>\n      <td>2018-03-02 17:50:01</td>\n    </tr>\n    <tr>\n      <th>83c1379a015df1e13d02aae0204711ab</th>\n      <td>1aa71eb042121263aafbe80c1b562c9c</td>\n      <td>delivered</td>\n      <td>2017-08-27 14:46:43</td>\n      <td>2017-08-27 15:04:16</td>\n      <td>2017-08-28 20:52:26</td>\n      <td>2017-09-21 11:24:17</td>\n      <td>2017-09-27</td>\n      <td>1.0</td>\n      <td>credit_card</td>\n      <td>5.0</td>\n      <td>271.01</td>\n      <td>371579771219f6db2d830d50805977bb</td>\n      <td>5</td>\n      <td>NaN</td>\n      <td>Foi entregue antes do prazo.</td>\n      <td>2017-09-22</td>\n      <td>2017-09-22 23:10:57</td>\n    </tr>\n    <tr>\n      <th>11c177c8e97725db2631073c19f07b62</th>\n      <td>b331b74b18dc79bcdf6532d51e1637c1</td>\n      <td>delivered</td>\n      <td>2018-01-08 21:28:27</td>\n      <td>2018-01-08 21:36:21</td>\n      <td>2018-01-12 15:35:03</td>\n      <td>2018-01-25 23:32:54</td>\n      <td>2018-02-15</td>\n      <td>1.0</td>\n      <td>credit_card</td>\n      <td>4.0</td>\n      <td>441.16</td>\n      <td>8ab6855b9fe9b812cd03a480a25058a1</td>\n      <td>2</td>\n      <td>NaN</td>\n      <td>Foi entregue somente 1. Quero saber do outro p...</td>\n      <td>2018-01-26</td>\n      <td>2018-01-27 09:16:56</td>\n    </tr>\n    <tr>\n      <th>66dea50a8b16d9b4dee7af250b4be1a5</th>\n      <td>edb027a75a1449115f6b43211ae02a24</td>\n      <td>delivered</td>\n      <td>2018-03-08 20:57:30</td>\n      <td>2018-03-09 11:20:28</td>\n      <td>2018-03-09 22:11:59</td>\n      <td>2018-03-16 13:08:30</td>\n      <td>2018-04-03</td>\n      <td>1.0</td>\n      <td>debit_card</td>\n      <td>1.0</td>\n      <td>86.86</td>\n      <td>dc9c59b4688062c25758c2be4cafc523</td>\n      <td>5</td>\n      <td>NaN</td>\n      <td>NaN</td>\n      <td>2018-03-17</td>\n      <td>2018-03-17 16:33:31</td>\n    </tr>\n  </tbody>\n</table>\n<p>99441 rows × 17 columns</p>\n</div>"
     },
     "metadata": {},
     "execution_count": 11
    }
   ],
   "source": [
    "df_orders_complete"
   ]
  },
  {
   "source": [
    "Revisar si hay datos nulos"
   ],
   "cell_type": "markdown",
   "metadata": {}
  },
  {
   "cell_type": "code",
   "execution_count": 12,
   "metadata": {},
   "outputs": [
    {
     "output_type": "execute_result",
     "data": {
      "text/plain": [
       "customer_id                          0\n",
       "order_status                         0\n",
       "order_purchase_timestamp             0\n",
       "order_approved_at                  160\n",
       "order_delivered_carrier_date      1783\n",
       "order_delivered_customer_date     2965\n",
       "order_estimated_delivery_date        0\n",
       "payment_sequential                   1\n",
       "payment_type                         1\n",
       "payment_installments                 1\n",
       "payment_value                        1\n",
       "review_id                            0\n",
       "review_score                         0\n",
       "review_comment_title             87744\n",
       "review_comment_message           57886\n",
       "review_creation_date                 0\n",
       "review_answer_timestamp              0\n",
       "dtype: int64"
      ]
     },
     "metadata": {},
     "execution_count": 12
    }
   ],
   "source": [
    "df_orders_complete.isna().sum()"
   ]
  },
  {
   "source": [
    "### Limpieza de datos nulos"
   ],
   "cell_type": "markdown",
   "metadata": {}
  },
  {
   "cell_type": "code",
   "execution_count": 13,
   "metadata": {},
   "outputs": [
    {
     "output_type": "execute_result",
     "data": {
      "text/plain": [
       "customer_id                      0\n",
       "order_status                     0\n",
       "order_purchase_timestamp         0\n",
       "order_approved_at                0\n",
       "order_delivered_carrier_date     0\n",
       "order_delivered_customer_date    0\n",
       "order_estimated_delivery_date    0\n",
       "payment_sequential               0\n",
       "payment_type                     0\n",
       "payment_installments             0\n",
       "payment_value                    0\n",
       "review_id                        0\n",
       "review_score                     0\n",
       "review_comment_title             0\n",
       "review_comment_message           0\n",
       "review_creation_date             0\n",
       "review_answer_timestamp          0\n",
       "dtype: int64"
      ]
     },
     "metadata": {},
     "execution_count": 13
    }
   ],
   "source": [
    "df_orders_complete = df_orders_complete.dropna(subset=[\"payment_sequential\", \"payment_type\", \"payment_installments\", \"payment_value\"])\n",
    "df_orders_complete = df_orders_complete.fillna(value=\"\")\n",
    "df_orders_complete.isna().sum()"
   ]
  },
  {
   "source": [
    "### Analizar el estado de las órdenes"
   ],
   "cell_type": "markdown",
   "metadata": {}
  },
  {
   "cell_type": "code",
   "execution_count": 14,
   "metadata": {},
   "outputs": [
    {
     "output_type": "execute_result",
     "data": {
      "text/plain": [
       "  order_status  count\n",
       "3    delivered  96477\n",
       "6      shipped   1107\n",
       "1     canceled    625\n",
       "7  unavailable    609\n",
       "4     invoiced    314\n",
       "5   processing    301\n",
       "2      created      5\n",
       "0     approved      2"
      ],
      "text/html": "<div>\n<style scoped>\n    .dataframe tbody tr th:only-of-type {\n        vertical-align: middle;\n    }\n\n    .dataframe tbody tr th {\n        vertical-align: top;\n    }\n\n    .dataframe thead th {\n        text-align: right;\n    }\n</style>\n<table border=\"1\" class=\"dataframe\">\n  <thead>\n    <tr style=\"text-align: right;\">\n      <th></th>\n      <th>order_status</th>\n      <th>count</th>\n    </tr>\n  </thead>\n  <tbody>\n    <tr>\n      <th>3</th>\n      <td>delivered</td>\n      <td>96477</td>\n    </tr>\n    <tr>\n      <th>6</th>\n      <td>shipped</td>\n      <td>1107</td>\n    </tr>\n    <tr>\n      <th>1</th>\n      <td>canceled</td>\n      <td>625</td>\n    </tr>\n    <tr>\n      <th>7</th>\n      <td>unavailable</td>\n      <td>609</td>\n    </tr>\n    <tr>\n      <th>4</th>\n      <td>invoiced</td>\n      <td>314</td>\n    </tr>\n    <tr>\n      <th>5</th>\n      <td>processing</td>\n      <td>301</td>\n    </tr>\n    <tr>\n      <th>2</th>\n      <td>created</td>\n      <td>5</td>\n    </tr>\n    <tr>\n      <th>0</th>\n      <td>approved</td>\n      <td>2</td>\n    </tr>\n  </tbody>\n</table>\n</div>"
     },
     "metadata": {},
     "execution_count": 14
    }
   ],
   "source": [
    "order_status_count = df_orders_complete.groupby([\"order_status\"]).size().reset_index(name='count').sort_values(by=\"count\", ascending=False)\n",
    "order_status_count"
   ]
  },
  {
   "cell_type": "code",
   "execution_count": 15,
   "metadata": {},
   "outputs": [
    {
     "output_type": "stream",
     "name": "stdout",
     "text": [
      "Estado      | Porcentaje\n------------------------\ndelivered   | 97.02%\nshipped     | 1.11%\ncanceled    | 0.63%\nunavailable | 0.61%\ninvoiced    | 0.32%\nprocessing  | 0.3%\ncreated     | 0.01%\napproved    | 0.0%\n"
     ]
    }
   ],
   "source": [
    "percentages = get_percentage(order_status_count[\"count\"], order_status_count[\"count\"].sum())\n",
    "\n",
    "print(\"Estado      | Porcentaje\")\n",
    "print(\"------------------------\")\n",
    "for index in order_status_count.index:\n",
    "    print(f'{order_status_count[\"order_status\"][index]:<12}| {np.round(percentages[index], 2)}%')"
   ]
  },
  {
   "source": [
    "Analizando los estados de las órdenes se llego a la conclusión de que la mayor son entregadas con éxito, y que solo un pequeño porcentaje (menos del 1%) sufrieron algún tipo de percance\n",
    "\n",
    "También encontramos que hay un estado de \"unavailable\" del cual no sabemos su significado"
   ],
   "cell_type": "markdown",
   "metadata": {}
  },
  {
   "source": [
    "### Analizar el método de pago"
   ],
   "cell_type": "markdown",
   "metadata": {}
  },
  {
   "cell_type": "code",
   "execution_count": 16,
   "metadata": {},
   "outputs": [],
   "source": [
    "order_payment_type_count = df_orders_complete.groupby([\"payment_type\"]).size().reset_index(name='count').sort_values(by=\"count\", ascending=False)"
   ]
  },
  {
   "cell_type": "code",
   "execution_count": 17,
   "metadata": {},
   "outputs": [
    {
     "output_type": "stream",
     "name": "stdout",
     "text": [
      "Tipo de pago | Porcentaje\n-------------------------\ncredit_card  | 75.81%\nboleto       | 19.9%\nvoucher      | 2.75%\ndebit_card   | 1.54%\nnot_defined  | 0.0%\n"
     ]
    }
   ],
   "source": [
    "percentages = get_percentage(order_payment_type_count[\"count\"], order_payment_type_count[\"count\"].sum())\n",
    "\n",
    "print(\"Tipo de pago | Porcentaje\")\n",
    "print(\"-------------------------\")\n",
    "for index in order_payment_type_count.index:\n",
    "    print(f'{order_payment_type_count[\"payment_type\"][index]:<13}| {np.round(percentages[index], 2)}%')"
   ]
  },
  {
   "source": [
    "El método de pago \"boleto\" significa \"billete\" en español, es decir, efectivo\n",
    "\n",
    "Analizando los métodos de pago de las órdenes se llegó a la conclusión de que es bastante la gente que utiliza tarjeta de crédito, 3/4 partes de todas las órdenes utilizan ese método"
   ],
   "cell_type": "markdown",
   "metadata": {}
  },
  {
   "source": [
    "### Análisis del valor de los pagos"
   ],
   "cell_type": "markdown",
   "metadata": {}
  },
  {
   "cell_type": "code",
   "execution_count": 18,
   "metadata": {},
   "outputs": [
    {
     "output_type": "execute_result",
     "data": {
      "text/plain": [
       "count    99440.000000\n",
       "mean       158.334781\n",
       "std        219.518488\n",
       "min          0.000000\n",
       "25%         60.050000\n",
       "50%        103.350000\n",
       "75%        175.130000\n",
       "max      13664.080000\n",
       "Name: payment_value, dtype: float64"
      ]
     },
     "metadata": {},
     "execution_count": 18
    }
   ],
   "source": [
    " df_orders_complete[\"payment_value\"].describe()"
   ]
  },
  {
   "source": [
    "En busca de conocer el pago promedio por transacción se usó el comando \"describe\" para obtener los datos más relevantes. El gasto promedio por transacción es de 158 reales brasileños, lo que equivale a poco menos de 600 pesos mexicanos\n",
    "\n",
    "Al ver esa descripción encontramos que existen pagos cuyo valor es igual a cero, así que decidimos investigar al respecto"
   ],
   "cell_type": "markdown",
   "metadata": {}
  },
  {
   "cell_type": "code",
   "execution_count": 19,
   "metadata": {},
   "outputs": [
    {
     "output_type": "execute_result",
     "data": {
      "text/plain": [
       "                                                       customer_id  \\\n",
       "order_id                                                             \n",
       "00b1cb0320190ca0daa2c88b35206009  3532ba38a3fd242259a514ac2b6ae6b6   \n",
       "4637ca194b6387e2d538dc89b124b0ee  a73c1f73f5772cf801434bf984b0b1a7   \n",
       "c8c528189310eaa44a745b8d9d26908b  197a2a6a77da93f678ea0d379f21da0a   \n",
       "\n",
       "                                 order_status order_purchase_timestamp  \\\n",
       "order_id                                                                 \n",
       "00b1cb0320190ca0daa2c88b35206009     canceled      2018-08-28 15:26:39   \n",
       "4637ca194b6387e2d538dc89b124b0ee     canceled      2018-09-03 14:14:25   \n",
       "c8c528189310eaa44a745b8d9d26908b     canceled      2018-08-28 20:05:14   \n",
       "\n",
       "                                 order_approved_at  \\\n",
       "order_id                                             \n",
       "00b1cb0320190ca0daa2c88b35206009                     \n",
       "4637ca194b6387e2d538dc89b124b0ee                     \n",
       "c8c528189310eaa44a745b8d9d26908b                     \n",
       "\n",
       "                                 order_delivered_carrier_date  \\\n",
       "order_id                                                        \n",
       "00b1cb0320190ca0daa2c88b35206009                                \n",
       "4637ca194b6387e2d538dc89b124b0ee                                \n",
       "c8c528189310eaa44a745b8d9d26908b                                \n",
       "\n",
       "                                 order_delivered_customer_date  \\\n",
       "order_id                                                         \n",
       "00b1cb0320190ca0daa2c88b35206009                                 \n",
       "4637ca194b6387e2d538dc89b124b0ee                                 \n",
       "c8c528189310eaa44a745b8d9d26908b                                 \n",
       "\n",
       "                                 order_estimated_delivery_date  \\\n",
       "order_id                                                         \n",
       "00b1cb0320190ca0daa2c88b35206009                    2018-09-12   \n",
       "4637ca194b6387e2d538dc89b124b0ee                    2018-09-10   \n",
       "c8c528189310eaa44a745b8d9d26908b                    2018-09-11   \n",
       "\n",
       "                                  payment_sequential payment_type  \\\n",
       "order_id                                                            \n",
       "00b1cb0320190ca0daa2c88b35206009                 1.0  not_defined   \n",
       "4637ca194b6387e2d538dc89b124b0ee                 1.0  not_defined   \n",
       "c8c528189310eaa44a745b8d9d26908b                 1.0  not_defined   \n",
       "\n",
       "                                  payment_installments  payment_value  \\\n",
       "order_id                                                                \n",
       "00b1cb0320190ca0daa2c88b35206009                   1.0            0.0   \n",
       "4637ca194b6387e2d538dc89b124b0ee                   1.0            0.0   \n",
       "c8c528189310eaa44a745b8d9d26908b                   1.0            0.0   \n",
       "\n",
       "                                                         review_id  \\\n",
       "order_id                                                             \n",
       "00b1cb0320190ca0daa2c88b35206009  9c0d840dfe562debfa52a1792bd64bff   \n",
       "4637ca194b6387e2d538dc89b124b0ee  9efef4d70190c1bdb9b12872cc8144fc   \n",
       "c8c528189310eaa44a745b8d9d26908b  b54d02f7f1520b3995f84b77ab0dacb3   \n",
       "\n",
       "                                  review_score       review_comment_title  \\\n",
       "order_id                                                                    \n",
       "00b1cb0320190ca0daa2c88b35206009             1  Entregaram produto errado   \n",
       "4637ca194b6387e2d538dc89b124b0ee             3           Produto Avariado   \n",
       "c8c528189310eaa44a745b8d9d26908b             1  Péssima meu produtdefeito   \n",
       "\n",
       "                                                             review_comment_message  \\\n",
       "order_id                                                                              \n",
       "00b1cb0320190ca0daa2c88b35206009  Comprei dois fones de ouvido com valor de R$ 5...   \n",
       "4637ca194b6387e2d538dc89b124b0ee  Recebi o Diario do Bebê c um pequeno rasgo na ...   \n",
       "c8c528189310eaa44a745b8d9d26908b                                                      \n",
       "\n",
       "                                 review_creation_date review_answer_timestamp  \n",
       "order_id                                                                       \n",
       "00b1cb0320190ca0daa2c88b35206009           2018-08-28     2018-08-28 18:25:55  \n",
       "4637ca194b6387e2d538dc89b124b0ee           2018-08-17     2018-08-18 15:32:40  \n",
       "c8c528189310eaa44a745b8d9d26908b           2018-08-24     2018-08-25 02:24:54  "
      ],
      "text/html": "<div>\n<style scoped>\n    .dataframe tbody tr th:only-of-type {\n        vertical-align: middle;\n    }\n\n    .dataframe tbody tr th {\n        vertical-align: top;\n    }\n\n    .dataframe thead th {\n        text-align: right;\n    }\n</style>\n<table border=\"1\" class=\"dataframe\">\n  <thead>\n    <tr style=\"text-align: right;\">\n      <th></th>\n      <th>customer_id</th>\n      <th>order_status</th>\n      <th>order_purchase_timestamp</th>\n      <th>order_approved_at</th>\n      <th>order_delivered_carrier_date</th>\n      <th>order_delivered_customer_date</th>\n      <th>order_estimated_delivery_date</th>\n      <th>payment_sequential</th>\n      <th>payment_type</th>\n      <th>payment_installments</th>\n      <th>payment_value</th>\n      <th>review_id</th>\n      <th>review_score</th>\n      <th>review_comment_title</th>\n      <th>review_comment_message</th>\n      <th>review_creation_date</th>\n      <th>review_answer_timestamp</th>\n    </tr>\n    <tr>\n      <th>order_id</th>\n      <th></th>\n      <th></th>\n      <th></th>\n      <th></th>\n      <th></th>\n      <th></th>\n      <th></th>\n      <th></th>\n      <th></th>\n      <th></th>\n      <th></th>\n      <th></th>\n      <th></th>\n      <th></th>\n      <th></th>\n      <th></th>\n      <th></th>\n    </tr>\n  </thead>\n  <tbody>\n    <tr>\n      <th>00b1cb0320190ca0daa2c88b35206009</th>\n      <td>3532ba38a3fd242259a514ac2b6ae6b6</td>\n      <td>canceled</td>\n      <td>2018-08-28 15:26:39</td>\n      <td></td>\n      <td></td>\n      <td></td>\n      <td>2018-09-12</td>\n      <td>1.0</td>\n      <td>not_defined</td>\n      <td>1.0</td>\n      <td>0.0</td>\n      <td>9c0d840dfe562debfa52a1792bd64bff</td>\n      <td>1</td>\n      <td>Entregaram produto errado</td>\n      <td>Comprei dois fones de ouvido com valor de R$ 5...</td>\n      <td>2018-08-28</td>\n      <td>2018-08-28 18:25:55</td>\n    </tr>\n    <tr>\n      <th>4637ca194b6387e2d538dc89b124b0ee</th>\n      <td>a73c1f73f5772cf801434bf984b0b1a7</td>\n      <td>canceled</td>\n      <td>2018-09-03 14:14:25</td>\n      <td></td>\n      <td></td>\n      <td></td>\n      <td>2018-09-10</td>\n      <td>1.0</td>\n      <td>not_defined</td>\n      <td>1.0</td>\n      <td>0.0</td>\n      <td>9efef4d70190c1bdb9b12872cc8144fc</td>\n      <td>3</td>\n      <td>Produto Avariado</td>\n      <td>Recebi o Diario do Bebê c um pequeno rasgo na ...</td>\n      <td>2018-08-17</td>\n      <td>2018-08-18 15:32:40</td>\n    </tr>\n    <tr>\n      <th>c8c528189310eaa44a745b8d9d26908b</th>\n      <td>197a2a6a77da93f678ea0d379f21da0a</td>\n      <td>canceled</td>\n      <td>2018-08-28 20:05:14</td>\n      <td></td>\n      <td></td>\n      <td></td>\n      <td>2018-09-11</td>\n      <td>1.0</td>\n      <td>not_defined</td>\n      <td>1.0</td>\n      <td>0.0</td>\n      <td>b54d02f7f1520b3995f84b77ab0dacb3</td>\n      <td>1</td>\n      <td>Péssima meu produtdefeito</td>\n      <td></td>\n      <td>2018-08-24</td>\n      <td>2018-08-25 02:24:54</td>\n    </tr>\n  </tbody>\n</table>\n</div>"
     },
     "metadata": {},
     "execution_count": 19
    }
   ],
   "source": [
    " df_orders_complete[df_orders_complete[\"payment_value\"] == 0]"
   ]
  },
  {
   "source": [
    "Encontramos que las órdenes de los productos con valor igual a cero corresponden a casos en los que la compra fue cancelada debido a fallas en el producto o entrega de un producto equivocado"
   ],
   "cell_type": "markdown",
   "metadata": {}
  },
  {
   "cell_type": "code",
   "execution_count": null,
   "metadata": {},
   "outputs": [],
   "source": []
  }
 ]
}